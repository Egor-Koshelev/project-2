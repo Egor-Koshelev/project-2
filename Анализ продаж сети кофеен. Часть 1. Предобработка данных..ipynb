{
 "cells": [
  {
   "cell_type": "markdown",
   "id": "0e63fd48",
   "metadata": {},
   "source": [
    "# **1. Business Understanding / Бизнес-анализ: описание кейса**"
   ]
  },
  {
   "cell_type": "markdown",
   "id": "0e2d2c8a",
   "metadata": {},
   "source": [
    "К нам обратился владелец небольшой сети кофеен, который планирует расширить \n",
    "свой бизнес и открыть несколько новых точек в течение ближайших 4 месяцев.\n",
    "<br> В связи с этим он хотел бы понять, как распределяются продажи по существующей \n",
    "сети кофеен, какие виды продукции вносят наибольший вклад в объем продаж, а \n",
    "от каких, возможно, стоит отказаться, кто является основным клиентом сети.\n",
    "<br> Заказчиком был предоставлен датасет с выгрузкой о транзакциях, товарах, клиентах и торговых точках из его CRM-системы."
   ]
  },
  {
   "cell_type": "markdown",
   "id": "5992bcf0",
   "metadata": {},
   "source": [
    "**Наша задача** — проанализировать распределение продаж по сети, продажи \n",
    "в разрезе категорий продукции, целевую аудиторию кофеен, а также выявить \n",
    "возможные взаимосвязи продаж с имеющимися признаками. Полученные результаты необходимо представить в аналитическом отчете, содержащим выводы и рекомендации для Заказчика, которые помогут ему для решения его бизнес-задач."
   ]
  },
  {
   "cell_type": "markdown",
   "id": "dc070db3",
   "metadata": {},
   "source": [
    "Исходные данные, представленные в датасете:\n",
    "1. идентификатор транзакции (transaction_id)\n",
    "2. количество единиц товара (quantity)\n",
    "3. цена за единицу товара (unit_price)\n",
    "4. информация о товаре (product_info), в т.ч. идентификатор товара (product_id), \n",
    "   наименование товара (product_name), категория товара (product_category)\n",
    "5. информация о кофейне (store_info), в т.ч. идентификатор кофейни \n",
    "   (sales_outlet_id), город расположения кофейни (store_city)\n",
    "6.  информация о покупателях (customer_info), в т.ч. идентификатор покупателя \n",
    "    (customer_id), дата рождения (birthdate), пол (gender)"
   ]
  },
  {
   "cell_type": "markdown",
   "id": "32a28286",
   "metadata": {},
   "source": [
    "**Формат файла** по результатам предобработки: *.csv*"
   ]
  },
  {
   "cell_type": "markdown",
   "id": "3a56f2f1",
   "metadata": {},
   "source": [
    "Основные пункты проработанного дизайна исследования представлены в **карточке проекта**."
   ]
  },
  {
   "cell_type": "markdown",
   "id": "ef3d179c",
   "metadata": {},
   "source": [
    "# **2. Data Understanding / Изучение данных**"
   ]
  },
  {
   "cell_type": "markdown",
   "id": "36334626",
   "metadata": {},
   "source": [
    "## 2.1. Импорт библиотек"
   ]
  },
  {
   "cell_type": "code",
   "execution_count": 1,
   "id": "6793f9f0",
   "metadata": {},
   "outputs": [],
   "source": [
    "# из библиотеки google.colab импортируем класс files при необходимости подгрузки файла с персонального компьютера\n",
    "# from google.colab import files\n",
    "# импортируем pandas - основную библиотеку аналитика данных\n",
    "import pandas as pd\n",
    "# импортируем библиотеку numpy для возможных расчетов\n",
    "import numpy as np\n",
    "# импортируем модуль json для распаковки структур данных формата json\n",
    "import json\n",
    "# импортируем статистические библиотеки\n",
    "import scipy\n",
    "import scipy.stats as stats\n",
    "# импортируем модуль pyplot из библиотеки matplotlib для визуализации\n",
    "from matplotlib import pyplot as plt\n",
    "# импортируем библиотеку seaborn для визуализации\n",
    "import seaborn as sns\n",
    "# для регулярных выражений\n",
    "import re as re"
   ]
  },
  {
   "cell_type": "code",
   "execution_count": 2,
   "id": "9b5752c0",
   "metadata": {},
   "outputs": [],
   "source": [
    "# установить размер графиков\n",
    "sns.set(rc={'figure.figsize':(8,4)})"
   ]
  },
  {
   "cell_type": "markdown",
   "id": "b1f02318",
   "metadata": {},
   "source": [
    "## 2.2. Подгрузка файла"
   ]
  },
  {
   "cell_type": "markdown",
   "id": "1bad270c",
   "metadata": {},
   "source": [
    "Предварительно скачиваем файл в ту же папку, где расположен блокнот, чтобы можно было работать в стационарной среде"
   ]
  },
  {
   "cell_type": "markdown",
   "id": "0b060001",
   "metadata": {},
   "source": [
    "## 2.3. Чтение файла"
   ]
  },
  {
   "cell_type": "code",
   "execution_count": 3,
   "id": "a71090cd",
   "metadata": {},
   "outputs": [],
   "source": [
    "df = pd.read_csv('coffee_shop_hard.csv', sep = ',')"
   ]
  },
  {
   "cell_type": "markdown",
   "id": "4fd4edeb",
   "metadata": {},
   "source": [
    "## 2.4. Обзор датасета"
   ]
  },
  {
   "cell_type": "code",
   "execution_count": 4,
   "id": "78bf3d0e",
   "metadata": {},
   "outputs": [
    {
     "data": {
      "text/html": [
       "<div>\n",
       "<style scoped>\n",
       "    .dataframe tbody tr th:only-of-type {\n",
       "        vertical-align: middle;\n",
       "    }\n",
       "\n",
       "    .dataframe tbody tr th {\n",
       "        vertical-align: top;\n",
       "    }\n",
       "\n",
       "    .dataframe thead th {\n",
       "        text-align: right;\n",
       "    }\n",
       "</style>\n",
       "<table border=\"1\" class=\"dataframe\">\n",
       "  <thead>\n",
       "    <tr style=\"text-align: right;\">\n",
       "      <th></th>\n",
       "      <th>transaction_id</th>\n",
       "      <th>quantity</th>\n",
       "      <th>unit_price</th>\n",
       "      <th>product_info</th>\n",
       "      <th>store_info</th>\n",
       "      <th>customer_info</th>\n",
       "    </tr>\n",
       "  </thead>\n",
       "  <tbody>\n",
       "    <tr>\n",
       "      <th>0</th>\n",
       "      <td>0</td>\n",
       "      <td>1</td>\n",
       "      <td>162.50</td>\n",
       "      <td>{\"product_id\":52,\"product_name\":\"Traditional B...</td>\n",
       "      <td>{\"sales_outlet_id\":3,\"store_city\":\"Санкт-Петер...</td>\n",
       "      <td>{\"customer_id\":558,\"birthdate\":\"1983-02-25\",\"g...</td>\n",
       "    </tr>\n",
       "    <tr>\n",
       "      <th>1</th>\n",
       "      <td>1</td>\n",
       "      <td>2</td>\n",
       "      <td>227.50</td>\n",
       "      <td>{\"product_id\":27,\"product_name\":\"Brazilian Lg\"...</td>\n",
       "      <td>{\"sales_outlet_id\":3,\"store_city\":\"Санкт-Петер...</td>\n",
       "      <td>{\"customer_id\":781,\"birthdate\":\"1991-07-29\",\"g...</td>\n",
       "    </tr>\n",
       "    <tr>\n",
       "      <th>2</th>\n",
       "      <td>2</td>\n",
       "      <td>2</td>\n",
       "      <td>162.50</td>\n",
       "      <td>{\"product_id\":46,\"product_name\":\"Serenity Gree...</td>\n",
       "      <td>{\"sales_outlet_id\":3,\"store_city\":\"Санкт-Петер...</td>\n",
       "      <td>{\"customer_id\":788,\"birthdate\":\"1995-02-23\",\"g...</td>\n",
       "    </tr>\n",
       "    <tr>\n",
       "      <th>3</th>\n",
       "      <td>3</td>\n",
       "      <td>2</td>\n",
       "      <td>162.50</td>\n",
       "      <td>{\"product_id\":23,\"product_name\":\"Our Old Time ...</td>\n",
       "      <td>{\"sales_outlet_id\":3,\"store_city\":\"Санкт-Петер...</td>\n",
       "      <td>{\"customer_id\":683,\"birthdate\":\"1999-02-06\",\"g...</td>\n",
       "    </tr>\n",
       "    <tr>\n",
       "      <th>4</th>\n",
       "      <td>4</td>\n",
       "      <td>1</td>\n",
       "      <td>159.25</td>\n",
       "      <td>{\"product_id\":34,\"product_name\":\"Jamaican Coff...</td>\n",
       "      <td>{\"sales_outlet_id\":3,\"store_city\":\"Санкт-Петер...</td>\n",
       "      <td>{\"customer_id\":99,\"birthdate\":\"1967-01-29\",\"ge...</td>\n",
       "    </tr>\n",
       "  </tbody>\n",
       "</table>\n",
       "</div>"
      ],
      "text/plain": [
       "   transaction_id  quantity  unit_price  \\\n",
       "0               0         1      162.50   \n",
       "1               1         2      227.50   \n",
       "2               2         2      162.50   \n",
       "3               3         2      162.50   \n",
       "4               4         1      159.25   \n",
       "\n",
       "                                        product_info  \\\n",
       "0  {\"product_id\":52,\"product_name\":\"Traditional B...   \n",
       "1  {\"product_id\":27,\"product_name\":\"Brazilian Lg\"...   \n",
       "2  {\"product_id\":46,\"product_name\":\"Serenity Gree...   \n",
       "3  {\"product_id\":23,\"product_name\":\"Our Old Time ...   \n",
       "4  {\"product_id\":34,\"product_name\":\"Jamaican Coff...   \n",
       "\n",
       "                                          store_info  \\\n",
       "0  {\"sales_outlet_id\":3,\"store_city\":\"Санкт-Петер...   \n",
       "1  {\"sales_outlet_id\":3,\"store_city\":\"Санкт-Петер...   \n",
       "2  {\"sales_outlet_id\":3,\"store_city\":\"Санкт-Петер...   \n",
       "3  {\"sales_outlet_id\":3,\"store_city\":\"Санкт-Петер...   \n",
       "4  {\"sales_outlet_id\":3,\"store_city\":\"Санкт-Петер...   \n",
       "\n",
       "                                       customer_info  \n",
       "0  {\"customer_id\":558,\"birthdate\":\"1983-02-25\",\"g...  \n",
       "1  {\"customer_id\":781,\"birthdate\":\"1991-07-29\",\"g...  \n",
       "2  {\"customer_id\":788,\"birthdate\":\"1995-02-23\",\"g...  \n",
       "3  {\"customer_id\":683,\"birthdate\":\"1999-02-06\",\"g...  \n",
       "4  {\"customer_id\":99,\"birthdate\":\"1967-01-29\",\"ge...  "
      ]
     },
     "execution_count": 4,
     "metadata": {},
     "output_type": "execute_result"
    }
   ],
   "source": [
    "df.head()"
   ]
  },
  {
   "cell_type": "code",
   "execution_count": 5,
   "id": "302183ad",
   "metadata": {},
   "outputs": [
    {
     "data": {
      "text/plain": [
       "(24909, 6)"
      ]
     },
     "execution_count": 5,
     "metadata": {},
     "output_type": "execute_result"
    }
   ],
   "source": [
    "df.shape"
   ]
  },
  {
   "cell_type": "code",
   "execution_count": 6,
   "id": "45a45e6f",
   "metadata": {},
   "outputs": [
    {
     "name": "stdout",
     "output_type": "stream",
     "text": [
      "<class 'pandas.core.frame.DataFrame'>\n",
      "RangeIndex: 24909 entries, 0 to 24908\n",
      "Data columns (total 6 columns):\n",
      " #   Column          Non-Null Count  Dtype  \n",
      "---  ------          --------------  -----  \n",
      " 0   transaction_id  24909 non-null  int64  \n",
      " 1   quantity        24909 non-null  int64  \n",
      " 2   unit_price      24909 non-null  float64\n",
      " 3   product_info    24909 non-null  object \n",
      " 4   store_info      24909 non-null  object \n",
      " 5   customer_info   24909 non-null  object \n",
      "dtypes: float64(1), int64(2), object(3)\n",
      "memory usage: 1.1+ MB\n"
     ]
    }
   ],
   "source": [
    "df.info()"
   ]
  },
  {
   "cell_type": "markdown",
   "id": "2bc73b9e",
   "metadata": {},
   "source": [
    "## 2.5. Выявление проблем"
   ]
  },
  {
   "cell_type": "markdown",
   "id": "2054cca7",
   "metadata": {},
   "source": [
    "1. Наличие признаков, не представляющих ценности в рамках кейса (будет понятно после распаковки вложенных значений в признаках 'product_info', 'store_info', 'customer_info' )\n",
    "2. Возможно наличие полных дубликатов\n",
    "3. Наличие незаполненных значений (в исходных признаках незаполненных значений нет; после распаковки вложенных структур в признаках 'product_info', 'store_info', 'customer_info' проведем соответствующую проверку)\n",
    "4. Наличие вложенных значений (словари в признаках 'product_info', 'store_info', 'customer_info', изначально данные в формате json-строки)\n",
    "5. Приведение признаков в необходимый формат (три первые столбца датасета: 'transaction_id', 'quantity' и 'unit_price' уже находятся в необходимых нам форматах; после распаковки вложенных значений в признаках 'product_info', 'store_info', 'customer_info' необходимо будет привести вновь полученные признаки в необходимый формат)\n",
    "6. Необходимость расчета признака 'age' (от признака 'birthdate'), признака 'total' (общая сумма чека)\n",
    "7. Возможно введение дополнительных новых признаков, необходимых для проведения анализа (кроме признаков, полученных в результате распаковки вложенных структур)\n",
    "8. Наличие закодированных значений (в исходном датасете нет значений, необходимых в декодировании)\n",
    "9. Возможные другие проблемы, которые могут быть выявлены в процессе предобработки данных"
   ]
  },
  {
   "cell_type": "markdown",
   "id": "2996e34f",
   "metadata": {},
   "source": [
    "# **3. Data Preparation / Предобработка данных**"
   ]
  },
  {
   "cell_type": "markdown",
   "id": "4334f4a5",
   "metadata": {},
   "source": [
    "## 3.1. Проверка и исключение полных дубликатов"
   ]
  },
  {
   "cell_type": "code",
   "execution_count": 7,
   "id": "bf879034",
   "metadata": {},
   "outputs": [],
   "source": [
    "df_copy = df.copy()  # создадим копию исходного датафрейма"
   ]
  },
  {
   "cell_type": "code",
   "execution_count": 8,
   "id": "f4d64d0f",
   "metadata": {},
   "outputs": [
    {
     "name": "stdout",
     "output_type": "stream",
     "text": [
      "57\n",
      "57\n"
     ]
    }
   ],
   "source": [
    "print(df_copy.duplicated().sum()) # кол-во полных дубликатов в датафрейме\n",
    "print(df_copy.duplicated(subset = 'transaction_id').sum()) # совпадает с  кол-вом дубликатов \n",
    "# по столбцу transaction_id"
   ]
  },
  {
   "cell_type": "code",
   "execution_count": 9,
   "id": "4a4a095b",
   "metadata": {},
   "outputs": [
    {
     "data": {
      "text/plain": [
       "24852"
      ]
     },
     "execution_count": 9,
     "metadata": {},
     "output_type": "execute_result"
    }
   ],
   "source": [
    "df_copy['transaction_id'].nunique() # кол-во уникальных транзакций"
   ]
  },
  {
   "cell_type": "code",
   "execution_count": 10,
   "id": "448d605a",
   "metadata": {},
   "outputs": [
    {
     "data": {
      "text/plain": [
       "(24852, 6)"
      ]
     },
     "execution_count": 10,
     "metadata": {},
     "output_type": "execute_result"
    }
   ],
   "source": [
    "# исключаем полные дубликаты из датафрейма\n",
    "df_copy.drop_duplicates(inplace=True)\n",
    "df_copy.shape # теперь в датасете только уникальные транзакции"
   ]
  },
  {
   "cell_type": "code",
   "execution_count": 11,
   "id": "9fab3ec1",
   "metadata": {},
   "outputs": [
    {
     "data": {
      "text/plain": [
       "RangeIndex(start=0, stop=24852, step=1)"
      ]
     },
     "execution_count": 11,
     "metadata": {},
     "output_type": "execute_result"
    }
   ],
   "source": [
    "# делаем перезапись индексного столбца\n",
    "df_copy.reset_index(drop=True, inplace=True)\n",
    "df_copy.index # проверем диапазон индексов"
   ]
  },
  {
   "cell_type": "markdown",
   "id": "fcb498b4",
   "metadata": {},
   "source": [
    "## 3.2. Распаковка вложенных структур данных"
   ]
  },
  {
   "cell_type": "code",
   "execution_count": 12,
   "id": "1d618bc7",
   "metadata": {},
   "outputs": [
    {
     "data": {
      "text/html": [
       "<div>\n",
       "<style scoped>\n",
       "    .dataframe tbody tr th:only-of-type {\n",
       "        vertical-align: middle;\n",
       "    }\n",
       "\n",
       "    .dataframe tbody tr th {\n",
       "        vertical-align: top;\n",
       "    }\n",
       "\n",
       "    .dataframe thead th {\n",
       "        text-align: right;\n",
       "    }\n",
       "</style>\n",
       "<table border=\"1\" class=\"dataframe\">\n",
       "  <thead>\n",
       "    <tr style=\"text-align: right;\">\n",
       "      <th></th>\n",
       "      <th>transaction_id</th>\n",
       "      <th>quantity</th>\n",
       "      <th>unit_price</th>\n",
       "      <th>product_info</th>\n",
       "      <th>store_info</th>\n",
       "      <th>customer_info</th>\n",
       "    </tr>\n",
       "  </thead>\n",
       "  <tbody>\n",
       "    <tr>\n",
       "      <th>0</th>\n",
       "      <td>0</td>\n",
       "      <td>1</td>\n",
       "      <td>162.5</td>\n",
       "      <td>{\"product_id\":52,\"product_name\":\"Traditional B...</td>\n",
       "      <td>{\"sales_outlet_id\":3,\"store_city\":\"Санкт-Петер...</td>\n",
       "      <td>{\"customer_id\":558,\"birthdate\":\"1983-02-25\",\"g...</td>\n",
       "    </tr>\n",
       "    <tr>\n",
       "      <th>1</th>\n",
       "      <td>1</td>\n",
       "      <td>2</td>\n",
       "      <td>227.5</td>\n",
       "      <td>{\"product_id\":27,\"product_name\":\"Brazilian Lg\"...</td>\n",
       "      <td>{\"sales_outlet_id\":3,\"store_city\":\"Санкт-Петер...</td>\n",
       "      <td>{\"customer_id\":781,\"birthdate\":\"1991-07-29\",\"g...</td>\n",
       "    </tr>\n",
       "    <tr>\n",
       "      <th>2</th>\n",
       "      <td>2</td>\n",
       "      <td>2</td>\n",
       "      <td>162.5</td>\n",
       "      <td>{\"product_id\":46,\"product_name\":\"Serenity Gree...</td>\n",
       "      <td>{\"sales_outlet_id\":3,\"store_city\":\"Санкт-Петер...</td>\n",
       "      <td>{\"customer_id\":788,\"birthdate\":\"1995-02-23\",\"g...</td>\n",
       "    </tr>\n",
       "  </tbody>\n",
       "</table>\n",
       "</div>"
      ],
      "text/plain": [
       "   transaction_id  quantity  unit_price  \\\n",
       "0               0         1       162.5   \n",
       "1               1         2       227.5   \n",
       "2               2         2       162.5   \n",
       "\n",
       "                                        product_info  \\\n",
       "0  {\"product_id\":52,\"product_name\":\"Traditional B...   \n",
       "1  {\"product_id\":27,\"product_name\":\"Brazilian Lg\"...   \n",
       "2  {\"product_id\":46,\"product_name\":\"Serenity Gree...   \n",
       "\n",
       "                                          store_info  \\\n",
       "0  {\"sales_outlet_id\":3,\"store_city\":\"Санкт-Петер...   \n",
       "1  {\"sales_outlet_id\":3,\"store_city\":\"Санкт-Петер...   \n",
       "2  {\"sales_outlet_id\":3,\"store_city\":\"Санкт-Петер...   \n",
       "\n",
       "                                       customer_info  \n",
       "0  {\"customer_id\":558,\"birthdate\":\"1983-02-25\",\"g...  \n",
       "1  {\"customer_id\":781,\"birthdate\":\"1991-07-29\",\"g...  \n",
       "2  {\"customer_id\":788,\"birthdate\":\"1995-02-23\",\"g...  "
      ]
     },
     "execution_count": 12,
     "metadata": {},
     "output_type": "execute_result"
    }
   ],
   "source": [
    "df_copy.head(3)"
   ]
  },
  {
   "cell_type": "markdown",
   "id": "1075aea4",
   "metadata": {},
   "source": [
    "**Необходимо обработать:** 'product_info', 'store_info', 'customer_info'"
   ]
  },
  {
   "cell_type": "markdown",
   "id": "89549b25",
   "metadata": {},
   "source": [
    "### 'product_info'"
   ]
  },
  {
   "cell_type": "code",
   "execution_count": 13,
   "id": "87d4f536",
   "metadata": {},
   "outputs": [
    {
     "data": {
      "text/plain": [
       "'{\"product_id\":29,\"product_name\":\"Columbian Medium Roast Rg\",\"product_category\":\"Coffee\"}'"
      ]
     },
     "execution_count": 13,
     "metadata": {},
     "output_type": "execute_result"
    }
   ],
   "source": [
    "# обзор случайного значения по признаку\n",
    "df_copy['product_info'][229]"
   ]
  },
  {
   "cell_type": "markdown",
   "id": "0987db09",
   "metadata": {},
   "source": [
    "Необходимо записать значения по ключам 'product_id', 'product_name' и 'product_category' в отдельные столбцы, данные не содержат пустые значения, поэтому проверку на пропуски можно опустить"
   ]
  },
  {
   "cell_type": "markdown",
   "id": "435412a4",
   "metadata": {},
   "source": [
    "Напишем функцию, которая будет приводить json-строку в формат словаря и извлекать из него значение \n",
    "по заданному ключу"
   ]
  },
  {
   "cell_type": "code",
   "execution_count": 14,
   "id": "ce1f2982",
   "metadata": {},
   "outputs": [],
   "source": [
    "def prod_id_func (data):\n",
    "    result = json.loads(data)['product_id']\n",
    "    return result\n",
    "\n",
    "def prod_name_func (data):\n",
    "    result = json.loads(data)['product_name']\n",
    "    return result\n",
    "\n",
    "def prod_category_func (data):\n",
    "    result = json.loads(data)['product_category']\n",
    "    return result"
   ]
  },
  {
   "cell_type": "code",
   "execution_count": 15,
   "id": "2ff575c2",
   "metadata": {},
   "outputs": [],
   "source": [
    "# применяем функции к столбцу\n",
    "df_copy['product_id'] = df_copy['product_info'].apply(prod_id_func)\n",
    "df_copy['product_name'] = df_copy['product_info'].apply(prod_name_func)\n",
    "df_copy['product_category'] = df_copy['product_info'].apply(prod_category_func)"
   ]
  },
  {
   "cell_type": "code",
   "execution_count": 16,
   "id": "fc6cb61a",
   "metadata": {},
   "outputs": [
    {
     "data": {
      "text/html": [
       "<div>\n",
       "<style scoped>\n",
       "    .dataframe tbody tr th:only-of-type {\n",
       "        vertical-align: middle;\n",
       "    }\n",
       "\n",
       "    .dataframe tbody tr th {\n",
       "        vertical-align: top;\n",
       "    }\n",
       "\n",
       "    .dataframe thead th {\n",
       "        text-align: right;\n",
       "    }\n",
       "</style>\n",
       "<table border=\"1\" class=\"dataframe\">\n",
       "  <thead>\n",
       "    <tr style=\"text-align: right;\">\n",
       "      <th></th>\n",
       "      <th>product_id</th>\n",
       "      <th>product_name</th>\n",
       "      <th>product_category</th>\n",
       "    </tr>\n",
       "  </thead>\n",
       "  <tbody>\n",
       "    <tr>\n",
       "      <th>0</th>\n",
       "      <td>52</td>\n",
       "      <td>Traditional Blend Chai Rg</td>\n",
       "      <td>Tea</td>\n",
       "    </tr>\n",
       "    <tr>\n",
       "      <th>1</th>\n",
       "      <td>27</td>\n",
       "      <td>Brazilian Lg</td>\n",
       "      <td>Coffee</td>\n",
       "    </tr>\n",
       "    <tr>\n",
       "      <th>2</th>\n",
       "      <td>46</td>\n",
       "      <td>Serenity Green Tea Rg</td>\n",
       "      <td>Tea</td>\n",
       "    </tr>\n",
       "    <tr>\n",
       "      <th>3</th>\n",
       "      <td>23</td>\n",
       "      <td>Our Old Time Diner Blend Rg</td>\n",
       "      <td>Coffee</td>\n",
       "    </tr>\n",
       "    <tr>\n",
       "      <th>4</th>\n",
       "      <td>34</td>\n",
       "      <td>Jamaican Coffee River Sm</td>\n",
       "      <td>Coffee</td>\n",
       "    </tr>\n",
       "    <tr>\n",
       "      <th>...</th>\n",
       "      <td>...</td>\n",
       "      <td>...</td>\n",
       "      <td>...</td>\n",
       "    </tr>\n",
       "    <tr>\n",
       "      <th>24847</th>\n",
       "      <td>41</td>\n",
       "      <td>Cappuccino Lg</td>\n",
       "      <td>Coffee</td>\n",
       "    </tr>\n",
       "    <tr>\n",
       "      <th>24848</th>\n",
       "      <td>87</td>\n",
       "      <td>Ouro Brasileiro shot</td>\n",
       "      <td>Coffee</td>\n",
       "    </tr>\n",
       "    <tr>\n",
       "      <th>24849</th>\n",
       "      <td>25</td>\n",
       "      <td>Brazilian Sm</td>\n",
       "      <td>Coffee</td>\n",
       "    </tr>\n",
       "    <tr>\n",
       "      <th>24850</th>\n",
       "      <td>44</td>\n",
       "      <td>Peppermint Rg</td>\n",
       "      <td>Tea</td>\n",
       "    </tr>\n",
       "    <tr>\n",
       "      <th>24851</th>\n",
       "      <td>75</td>\n",
       "      <td>Croissant</td>\n",
       "      <td>Bakery</td>\n",
       "    </tr>\n",
       "  </tbody>\n",
       "</table>\n",
       "<p>24852 rows × 3 columns</p>\n",
       "</div>"
      ],
      "text/plain": [
       "       product_id                 product_name product_category\n",
       "0              52    Traditional Blend Chai Rg              Tea\n",
       "1              27                 Brazilian Lg           Coffee\n",
       "2              46        Serenity Green Tea Rg              Tea\n",
       "3              23  Our Old Time Diner Blend Rg           Coffee\n",
       "4              34     Jamaican Coffee River Sm           Coffee\n",
       "...           ...                          ...              ...\n",
       "24847          41                Cappuccino Lg           Coffee\n",
       "24848          87         Ouro Brasileiro shot           Coffee\n",
       "24849          25                 Brazilian Sm           Coffee\n",
       "24850          44                Peppermint Rg              Tea\n",
       "24851          75                    Croissant           Bakery\n",
       "\n",
       "[24852 rows x 3 columns]"
      ]
     },
     "execution_count": 16,
     "metadata": {},
     "output_type": "execute_result"
    }
   ],
   "source": [
    "# контроль результата\n",
    "df_copy[['product_id', 'product_name', 'product_category']]"
   ]
  },
  {
   "cell_type": "markdown",
   "id": "3a31700f",
   "metadata": {},
   "source": [
    "### 'store_info'"
   ]
  },
  {
   "cell_type": "code",
   "execution_count": 17,
   "id": "7ce9bc44",
   "metadata": {},
   "outputs": [
    {
     "data": {
      "text/plain": [
       "'{\"sales_outlet_id\":3,\"store_city\":\"Санкт-Петербург\"}'"
      ]
     },
     "execution_count": 17,
     "metadata": {},
     "output_type": "execute_result"
    }
   ],
   "source": [
    "# обзор случайного значения по признаку\n",
    "df_copy['store_info'][209]"
   ]
  },
  {
   "cell_type": "markdown",
   "id": "ed4eb54b",
   "metadata": {},
   "source": [
    "Необходимо записать значения по ключам 'sales_outlet_id' и 'store_city' в отдельные столбцы, данные не содержат пустые значения, поэтому проверку на пропуски можно опустить"
   ]
  },
  {
   "cell_type": "markdown",
   "id": "2cc07f60",
   "metadata": {},
   "source": [
    "Воспользуемся ранее написанной функцией, которая будет приводить json-строку в формат словаря и извлекать из него значение \n",
    "по заданному ключу"
   ]
  },
  {
   "cell_type": "code",
   "execution_count": 18,
   "id": "b1d5b815",
   "metadata": {},
   "outputs": [],
   "source": [
    "def outlet_id_func (data):\n",
    "    result = json.loads(data)['sales_outlet_id']\n",
    "    return result\n",
    "\n",
    "def city_func (data):\n",
    "    result = json.loads(data)['store_city']\n",
    "    return result"
   ]
  },
  {
   "cell_type": "code",
   "execution_count": 19,
   "id": "d670d8b3",
   "metadata": {},
   "outputs": [],
   "source": [
    "# применяем функции к столбцу\n",
    "df_copy['sales_outlet_id'] = df_copy['store_info'].apply(outlet_id_func)\n",
    "df_copy['store_city'] = df_copy['store_info'].apply(city_func)"
   ]
  },
  {
   "cell_type": "code",
   "execution_count": 20,
   "id": "6eae95f3",
   "metadata": {},
   "outputs": [
    {
     "data": {
      "text/html": [
       "<div>\n",
       "<style scoped>\n",
       "    .dataframe tbody tr th:only-of-type {\n",
       "        vertical-align: middle;\n",
       "    }\n",
       "\n",
       "    .dataframe tbody tr th {\n",
       "        vertical-align: top;\n",
       "    }\n",
       "\n",
       "    .dataframe thead th {\n",
       "        text-align: right;\n",
       "    }\n",
       "</style>\n",
       "<table border=\"1\" class=\"dataframe\">\n",
       "  <thead>\n",
       "    <tr style=\"text-align: right;\">\n",
       "      <th></th>\n",
       "      <th>sales_outlet_id</th>\n",
       "      <th>store_city</th>\n",
       "    </tr>\n",
       "  </thead>\n",
       "  <tbody>\n",
       "    <tr>\n",
       "      <th>0</th>\n",
       "      <td>3</td>\n",
       "      <td>Санкт-Петербург</td>\n",
       "    </tr>\n",
       "    <tr>\n",
       "      <th>1</th>\n",
       "      <td>3</td>\n",
       "      <td>Санкт-Петербург</td>\n",
       "    </tr>\n",
       "    <tr>\n",
       "      <th>2</th>\n",
       "      <td>3</td>\n",
       "      <td>Санкт-Петербург</td>\n",
       "    </tr>\n",
       "    <tr>\n",
       "      <th>3</th>\n",
       "      <td>3</td>\n",
       "      <td>Санкт-Петербург</td>\n",
       "    </tr>\n",
       "    <tr>\n",
       "      <th>4</th>\n",
       "      <td>3</td>\n",
       "      <td>Санкт-Петербург</td>\n",
       "    </tr>\n",
       "    <tr>\n",
       "      <th>...</th>\n",
       "      <td>...</td>\n",
       "      <td>...</td>\n",
       "    </tr>\n",
       "    <tr>\n",
       "      <th>24847</th>\n",
       "      <td>8</td>\n",
       "      <td>Moscow</td>\n",
       "    </tr>\n",
       "    <tr>\n",
       "      <th>24848</th>\n",
       "      <td>8</td>\n",
       "      <td>Moscow</td>\n",
       "    </tr>\n",
       "    <tr>\n",
       "      <th>24849</th>\n",
       "      <td>8</td>\n",
       "      <td>Moscow</td>\n",
       "    </tr>\n",
       "    <tr>\n",
       "      <th>24850</th>\n",
       "      <td>8</td>\n",
       "      <td>Moscow</td>\n",
       "    </tr>\n",
       "    <tr>\n",
       "      <th>24851</th>\n",
       "      <td>8</td>\n",
       "      <td>Moscow</td>\n",
       "    </tr>\n",
       "  </tbody>\n",
       "</table>\n",
       "<p>24852 rows × 2 columns</p>\n",
       "</div>"
      ],
      "text/plain": [
       "       sales_outlet_id       store_city\n",
       "0                    3  Санкт-Петербург\n",
       "1                    3  Санкт-Петербург\n",
       "2                    3  Санкт-Петербург\n",
       "3                    3  Санкт-Петербург\n",
       "4                    3  Санкт-Петербург\n",
       "...                ...              ...\n",
       "24847                8           Moscow\n",
       "24848                8           Moscow\n",
       "24849                8           Moscow\n",
       "24850                8           Moscow\n",
       "24851                8           Moscow\n",
       "\n",
       "[24852 rows x 2 columns]"
      ]
     },
     "execution_count": 20,
     "metadata": {},
     "output_type": "execute_result"
    }
   ],
   "source": [
    "# контроль результата\n",
    "df_copy[['sales_outlet_id', 'store_city']]"
   ]
  },
  {
   "cell_type": "markdown",
   "id": "7be1239c",
   "metadata": {},
   "source": [
    "### 'customer_info'"
   ]
  },
  {
   "cell_type": "code",
   "execution_count": 21,
   "id": "10fbd57a",
   "metadata": {},
   "outputs": [
    {
     "data": {
      "text/plain": [
       "'{\"customer_id\":395,\"birthdate\":\"1962-05-11\",\"gender\":\"женский\"}'"
      ]
     },
     "execution_count": 21,
     "metadata": {},
     "output_type": "execute_result"
    }
   ],
   "source": [
    "# обзор случайного значения по признаку\n",
    "df_copy['customer_info'][543]"
   ]
  },
  {
   "cell_type": "markdown",
   "id": "6aa81e2a",
   "metadata": {},
   "source": [
    "Необходимо записать значения по ключам 'customer_id', 'birthdate' и 'gender' в отдельные столбцы, данные не содержат пустые значения, поэтому проверку на пропуски можно опустить"
   ]
  },
  {
   "cell_type": "markdown",
   "id": "1f118f81",
   "metadata": {},
   "source": [
    "Воспользуемся ранее написанной функцией, которая будет приводить json-строку в формат словаря и извлекать из него значение по заданному ключу"
   ]
  },
  {
   "cell_type": "code",
   "execution_count": 22,
   "id": "f0e7cc00",
   "metadata": {},
   "outputs": [],
   "source": [
    "def customer_id_func (data):\n",
    "    result = json.loads(data)['customer_id']\n",
    "    return result\n",
    "\n",
    "def birthdate_func (data):\n",
    "    result = json.loads(data)['birthdate']\n",
    "    return result\n",
    "\n",
    "def gender_func (data):\n",
    "    result = json.loads(data)['gender']\n",
    "    return result"
   ]
  },
  {
   "cell_type": "code",
   "execution_count": 23,
   "id": "5707bc84",
   "metadata": {},
   "outputs": [],
   "source": [
    "# применяем функции к столбцу\n",
    "df_copy['customer_id'] = df_copy['customer_info'].apply(customer_id_func)\n",
    "df_copy['birthdate'] = df_copy['customer_info'].apply(birthdate_func)\n",
    "df_copy['gender'] = df_copy['customer_info'].apply(gender_func)"
   ]
  },
  {
   "cell_type": "code",
   "execution_count": 24,
   "id": "779a33a1",
   "metadata": {},
   "outputs": [
    {
     "data": {
      "text/html": [
       "<div>\n",
       "<style scoped>\n",
       "    .dataframe tbody tr th:only-of-type {\n",
       "        vertical-align: middle;\n",
       "    }\n",
       "\n",
       "    .dataframe tbody tr th {\n",
       "        vertical-align: top;\n",
       "    }\n",
       "\n",
       "    .dataframe thead th {\n",
       "        text-align: right;\n",
       "    }\n",
       "</style>\n",
       "<table border=\"1\" class=\"dataframe\">\n",
       "  <thead>\n",
       "    <tr style=\"text-align: right;\">\n",
       "      <th></th>\n",
       "      <th>customer_id</th>\n",
       "      <th>birthdate</th>\n",
       "      <th>gender</th>\n",
       "    </tr>\n",
       "  </thead>\n",
       "  <tbody>\n",
       "    <tr>\n",
       "      <th>0</th>\n",
       "      <td>558</td>\n",
       "      <td>1983-02-25</td>\n",
       "      <td>женский</td>\n",
       "    </tr>\n",
       "    <tr>\n",
       "      <th>1</th>\n",
       "      <td>781</td>\n",
       "      <td>1991-07-29</td>\n",
       "      <td>не указан</td>\n",
       "    </tr>\n",
       "    <tr>\n",
       "      <th>2</th>\n",
       "      <td>788</td>\n",
       "      <td>1995-02-23</td>\n",
       "      <td>не указан</td>\n",
       "    </tr>\n",
       "    <tr>\n",
       "      <th>3</th>\n",
       "      <td>683</td>\n",
       "      <td>1999-02-06</td>\n",
       "      <td>женский</td>\n",
       "    </tr>\n",
       "    <tr>\n",
       "      <th>4</th>\n",
       "      <td>99</td>\n",
       "      <td>1967-01-29</td>\n",
       "      <td>мужской</td>\n",
       "    </tr>\n",
       "    <tr>\n",
       "      <th>...</th>\n",
       "      <td>...</td>\n",
       "      <td>...</td>\n",
       "      <td>...</td>\n",
       "    </tr>\n",
       "    <tr>\n",
       "      <th>24847</th>\n",
       "      <td>8026</td>\n",
       "      <td>1962-10-25</td>\n",
       "      <td>мужской</td>\n",
       "    </tr>\n",
       "    <tr>\n",
       "      <th>24848</th>\n",
       "      <td>8401</td>\n",
       "      <td>1954-11-05</td>\n",
       "      <td>мужской</td>\n",
       "    </tr>\n",
       "    <tr>\n",
       "      <th>24849</th>\n",
       "      <td>8412</td>\n",
       "      <td>1953-09-16</td>\n",
       "      <td>мужской</td>\n",
       "    </tr>\n",
       "    <tr>\n",
       "      <th>24850</th>\n",
       "      <td>8030</td>\n",
       "      <td>1994-01-10</td>\n",
       "      <td>женский</td>\n",
       "    </tr>\n",
       "    <tr>\n",
       "      <th>24851</th>\n",
       "      <td>8030</td>\n",
       "      <td>1994-01-10</td>\n",
       "      <td>женский</td>\n",
       "    </tr>\n",
       "  </tbody>\n",
       "</table>\n",
       "<p>24852 rows × 3 columns</p>\n",
       "</div>"
      ],
      "text/plain": [
       "       customer_id   birthdate     gender\n",
       "0              558  1983-02-25    женский\n",
       "1              781  1991-07-29  не указан\n",
       "2              788  1995-02-23  не указан\n",
       "3              683  1999-02-06    женский\n",
       "4               99  1967-01-29    мужской\n",
       "...            ...         ...        ...\n",
       "24847         8026  1962-10-25    мужской\n",
       "24848         8401  1954-11-05    мужской\n",
       "24849         8412  1953-09-16    мужской\n",
       "24850         8030  1994-01-10    женский\n",
       "24851         8030  1994-01-10    женский\n",
       "\n",
       "[24852 rows x 3 columns]"
      ]
     },
     "execution_count": 24,
     "metadata": {},
     "output_type": "execute_result"
    }
   ],
   "source": [
    "# контроль результата\n",
    "df_copy[['customer_id', 'birthdate', 'gender']]"
   ]
  },
  {
   "cell_type": "markdown",
   "id": "90c2ae3c",
   "metadata": {},
   "source": [
    "## 3.3. Исключение признаков, не представляющих ценности для дальнейшего выполнения поставленной задачи"
   ]
  },
  {
   "cell_type": "code",
   "execution_count": 25,
   "id": "22b0d896",
   "metadata": {},
   "outputs": [
    {
     "data": {
      "text/html": [
       "<div>\n",
       "<style scoped>\n",
       "    .dataframe tbody tr th:only-of-type {\n",
       "        vertical-align: middle;\n",
       "    }\n",
       "\n",
       "    .dataframe tbody tr th {\n",
       "        vertical-align: top;\n",
       "    }\n",
       "\n",
       "    .dataframe thead th {\n",
       "        text-align: right;\n",
       "    }\n",
       "</style>\n",
       "<table border=\"1\" class=\"dataframe\">\n",
       "  <thead>\n",
       "    <tr style=\"text-align: right;\">\n",
       "      <th></th>\n",
       "      <th>transaction_id</th>\n",
       "      <th>quantity</th>\n",
       "      <th>unit_price</th>\n",
       "      <th>product_info</th>\n",
       "      <th>store_info</th>\n",
       "      <th>customer_info</th>\n",
       "      <th>product_id</th>\n",
       "      <th>product_name</th>\n",
       "      <th>product_category</th>\n",
       "      <th>sales_outlet_id</th>\n",
       "      <th>store_city</th>\n",
       "      <th>customer_id</th>\n",
       "      <th>birthdate</th>\n",
       "      <th>gender</th>\n",
       "    </tr>\n",
       "  </thead>\n",
       "  <tbody>\n",
       "    <tr>\n",
       "      <th>0</th>\n",
       "      <td>0</td>\n",
       "      <td>1</td>\n",
       "      <td>162.50</td>\n",
       "      <td>{\"product_id\":52,\"product_name\":\"Traditional B...</td>\n",
       "      <td>{\"sales_outlet_id\":3,\"store_city\":\"Санкт-Петер...</td>\n",
       "      <td>{\"customer_id\":558,\"birthdate\":\"1983-02-25\",\"g...</td>\n",
       "      <td>52</td>\n",
       "      <td>Traditional Blend Chai Rg</td>\n",
       "      <td>Tea</td>\n",
       "      <td>3</td>\n",
       "      <td>Санкт-Петербург</td>\n",
       "      <td>558</td>\n",
       "      <td>1983-02-25</td>\n",
       "      <td>женский</td>\n",
       "    </tr>\n",
       "    <tr>\n",
       "      <th>1</th>\n",
       "      <td>1</td>\n",
       "      <td>2</td>\n",
       "      <td>227.50</td>\n",
       "      <td>{\"product_id\":27,\"product_name\":\"Brazilian Lg\"...</td>\n",
       "      <td>{\"sales_outlet_id\":3,\"store_city\":\"Санкт-Петер...</td>\n",
       "      <td>{\"customer_id\":781,\"birthdate\":\"1991-07-29\",\"g...</td>\n",
       "      <td>27</td>\n",
       "      <td>Brazilian Lg</td>\n",
       "      <td>Coffee</td>\n",
       "      <td>3</td>\n",
       "      <td>Санкт-Петербург</td>\n",
       "      <td>781</td>\n",
       "      <td>1991-07-29</td>\n",
       "      <td>не указан</td>\n",
       "    </tr>\n",
       "    <tr>\n",
       "      <th>2</th>\n",
       "      <td>2</td>\n",
       "      <td>2</td>\n",
       "      <td>162.50</td>\n",
       "      <td>{\"product_id\":46,\"product_name\":\"Serenity Gree...</td>\n",
       "      <td>{\"sales_outlet_id\":3,\"store_city\":\"Санкт-Петер...</td>\n",
       "      <td>{\"customer_id\":788,\"birthdate\":\"1995-02-23\",\"g...</td>\n",
       "      <td>46</td>\n",
       "      <td>Serenity Green Tea Rg</td>\n",
       "      <td>Tea</td>\n",
       "      <td>3</td>\n",
       "      <td>Санкт-Петербург</td>\n",
       "      <td>788</td>\n",
       "      <td>1995-02-23</td>\n",
       "      <td>не указан</td>\n",
       "    </tr>\n",
       "    <tr>\n",
       "      <th>3</th>\n",
       "      <td>3</td>\n",
       "      <td>2</td>\n",
       "      <td>162.50</td>\n",
       "      <td>{\"product_id\":23,\"product_name\":\"Our Old Time ...</td>\n",
       "      <td>{\"sales_outlet_id\":3,\"store_city\":\"Санкт-Петер...</td>\n",
       "      <td>{\"customer_id\":683,\"birthdate\":\"1999-02-06\",\"g...</td>\n",
       "      <td>23</td>\n",
       "      <td>Our Old Time Diner Blend Rg</td>\n",
       "      <td>Coffee</td>\n",
       "      <td>3</td>\n",
       "      <td>Санкт-Петербург</td>\n",
       "      <td>683</td>\n",
       "      <td>1999-02-06</td>\n",
       "      <td>женский</td>\n",
       "    </tr>\n",
       "    <tr>\n",
       "      <th>4</th>\n",
       "      <td>4</td>\n",
       "      <td>1</td>\n",
       "      <td>159.25</td>\n",
       "      <td>{\"product_id\":34,\"product_name\":\"Jamaican Coff...</td>\n",
       "      <td>{\"sales_outlet_id\":3,\"store_city\":\"Санкт-Петер...</td>\n",
       "      <td>{\"customer_id\":99,\"birthdate\":\"1967-01-29\",\"ge...</td>\n",
       "      <td>34</td>\n",
       "      <td>Jamaican Coffee River Sm</td>\n",
       "      <td>Coffee</td>\n",
       "      <td>3</td>\n",
       "      <td>Санкт-Петербург</td>\n",
       "      <td>99</td>\n",
       "      <td>1967-01-29</td>\n",
       "      <td>мужской</td>\n",
       "    </tr>\n",
       "  </tbody>\n",
       "</table>\n",
       "</div>"
      ],
      "text/plain": [
       "   transaction_id  quantity  unit_price  \\\n",
       "0               0         1      162.50   \n",
       "1               1         2      227.50   \n",
       "2               2         2      162.50   \n",
       "3               3         2      162.50   \n",
       "4               4         1      159.25   \n",
       "\n",
       "                                        product_info  \\\n",
       "0  {\"product_id\":52,\"product_name\":\"Traditional B...   \n",
       "1  {\"product_id\":27,\"product_name\":\"Brazilian Lg\"...   \n",
       "2  {\"product_id\":46,\"product_name\":\"Serenity Gree...   \n",
       "3  {\"product_id\":23,\"product_name\":\"Our Old Time ...   \n",
       "4  {\"product_id\":34,\"product_name\":\"Jamaican Coff...   \n",
       "\n",
       "                                          store_info  \\\n",
       "0  {\"sales_outlet_id\":3,\"store_city\":\"Санкт-Петер...   \n",
       "1  {\"sales_outlet_id\":3,\"store_city\":\"Санкт-Петер...   \n",
       "2  {\"sales_outlet_id\":3,\"store_city\":\"Санкт-Петер...   \n",
       "3  {\"sales_outlet_id\":3,\"store_city\":\"Санкт-Петер...   \n",
       "4  {\"sales_outlet_id\":3,\"store_city\":\"Санкт-Петер...   \n",
       "\n",
       "                                       customer_info  product_id  \\\n",
       "0  {\"customer_id\":558,\"birthdate\":\"1983-02-25\",\"g...          52   \n",
       "1  {\"customer_id\":781,\"birthdate\":\"1991-07-29\",\"g...          27   \n",
       "2  {\"customer_id\":788,\"birthdate\":\"1995-02-23\",\"g...          46   \n",
       "3  {\"customer_id\":683,\"birthdate\":\"1999-02-06\",\"g...          23   \n",
       "4  {\"customer_id\":99,\"birthdate\":\"1967-01-29\",\"ge...          34   \n",
       "\n",
       "                  product_name product_category  sales_outlet_id  \\\n",
       "0    Traditional Blend Chai Rg              Tea                3   \n",
       "1                 Brazilian Lg           Coffee                3   \n",
       "2        Serenity Green Tea Rg              Tea                3   \n",
       "3  Our Old Time Diner Blend Rg           Coffee                3   \n",
       "4     Jamaican Coffee River Sm           Coffee                3   \n",
       "\n",
       "        store_city  customer_id   birthdate     gender  \n",
       "0  Санкт-Петербург          558  1983-02-25    женский  \n",
       "1  Санкт-Петербург          781  1991-07-29  не указан  \n",
       "2  Санкт-Петербург          788  1995-02-23  не указан  \n",
       "3  Санкт-Петербург          683  1999-02-06    женский  \n",
       "4  Санкт-Петербург           99  1967-01-29    мужской  "
      ]
     },
     "execution_count": 25,
     "metadata": {},
     "output_type": "execute_result"
    }
   ],
   "source": [
    "df_copy.head()"
   ]
  },
  {
   "cell_type": "code",
   "execution_count": 26,
   "id": "217ff19a",
   "metadata": {},
   "outputs": [],
   "source": [
    "# создание списка \"ненужных\" колонок - нераспакованные \"словари\"\n",
    "columns = ['product_info', 'store_info', 'customer_info']"
   ]
  },
  {
   "cell_type": "code",
   "execution_count": 27,
   "id": "7987be05",
   "metadata": {},
   "outputs": [],
   "source": [
    "df_copy.drop(columns=columns, inplace=True)"
   ]
  },
  {
   "cell_type": "code",
   "execution_count": 28,
   "id": "8361c52f",
   "metadata": {},
   "outputs": [
    {
     "name": "stdout",
     "output_type": "stream",
     "text": [
      "<class 'pandas.core.frame.DataFrame'>\n",
      "RangeIndex: 24852 entries, 0 to 24851\n",
      "Data columns (total 11 columns):\n",
      " #   Column            Non-Null Count  Dtype  \n",
      "---  ------            --------------  -----  \n",
      " 0   transaction_id    24852 non-null  int64  \n",
      " 1   quantity          24852 non-null  int64  \n",
      " 2   unit_price        24852 non-null  float64\n",
      " 3   product_id        24852 non-null  int64  \n",
      " 4   product_name      24852 non-null  object \n",
      " 5   product_category  24852 non-null  object \n",
      " 6   sales_outlet_id   24852 non-null  int64  \n",
      " 7   store_city        24852 non-null  object \n",
      " 8   customer_id       24852 non-null  int64  \n",
      " 9   birthdate         24852 non-null  object \n",
      " 10  gender            24852 non-null  object \n",
      "dtypes: float64(1), int64(5), object(5)\n",
      "memory usage: 2.1+ MB\n"
     ]
    }
   ],
   "source": [
    "df_copy.info() \n",
    "# проверяем список оставшихся столбцов, в датафрейме нет пустых значений \n",
    "# проверяем индексацию и смотрим типы данных по столбцам "
   ]
  },
  {
   "cell_type": "code",
   "execution_count": 29,
   "id": "25470a63",
   "metadata": {},
   "outputs": [
    {
     "data": {
      "text/html": [
       "<div>\n",
       "<style scoped>\n",
       "    .dataframe tbody tr th:only-of-type {\n",
       "        vertical-align: middle;\n",
       "    }\n",
       "\n",
       "    .dataframe tbody tr th {\n",
       "        vertical-align: top;\n",
       "    }\n",
       "\n",
       "    .dataframe thead th {\n",
       "        text-align: right;\n",
       "    }\n",
       "</style>\n",
       "<table border=\"1\" class=\"dataframe\">\n",
       "  <thead>\n",
       "    <tr style=\"text-align: right;\">\n",
       "      <th></th>\n",
       "      <th>transaction_id</th>\n",
       "      <th>quantity</th>\n",
       "      <th>unit_price</th>\n",
       "      <th>product_id</th>\n",
       "      <th>product_name</th>\n",
       "      <th>product_category</th>\n",
       "      <th>sales_outlet_id</th>\n",
       "      <th>store_city</th>\n",
       "      <th>customer_id</th>\n",
       "      <th>birthdate</th>\n",
       "      <th>gender</th>\n",
       "    </tr>\n",
       "  </thead>\n",
       "  <tbody>\n",
       "    <tr>\n",
       "      <th>0</th>\n",
       "      <td>0</td>\n",
       "      <td>1</td>\n",
       "      <td>162.50</td>\n",
       "      <td>52</td>\n",
       "      <td>Traditional Blend Chai Rg</td>\n",
       "      <td>Tea</td>\n",
       "      <td>3</td>\n",
       "      <td>Санкт-Петербург</td>\n",
       "      <td>558</td>\n",
       "      <td>1983-02-25</td>\n",
       "      <td>женский</td>\n",
       "    </tr>\n",
       "    <tr>\n",
       "      <th>1</th>\n",
       "      <td>1</td>\n",
       "      <td>2</td>\n",
       "      <td>227.50</td>\n",
       "      <td>27</td>\n",
       "      <td>Brazilian Lg</td>\n",
       "      <td>Coffee</td>\n",
       "      <td>3</td>\n",
       "      <td>Санкт-Петербург</td>\n",
       "      <td>781</td>\n",
       "      <td>1991-07-29</td>\n",
       "      <td>не указан</td>\n",
       "    </tr>\n",
       "    <tr>\n",
       "      <th>2</th>\n",
       "      <td>2</td>\n",
       "      <td>2</td>\n",
       "      <td>162.50</td>\n",
       "      <td>46</td>\n",
       "      <td>Serenity Green Tea Rg</td>\n",
       "      <td>Tea</td>\n",
       "      <td>3</td>\n",
       "      <td>Санкт-Петербург</td>\n",
       "      <td>788</td>\n",
       "      <td>1995-02-23</td>\n",
       "      <td>не указан</td>\n",
       "    </tr>\n",
       "    <tr>\n",
       "      <th>3</th>\n",
       "      <td>3</td>\n",
       "      <td>2</td>\n",
       "      <td>162.50</td>\n",
       "      <td>23</td>\n",
       "      <td>Our Old Time Diner Blend Rg</td>\n",
       "      <td>Coffee</td>\n",
       "      <td>3</td>\n",
       "      <td>Санкт-Петербург</td>\n",
       "      <td>683</td>\n",
       "      <td>1999-02-06</td>\n",
       "      <td>женский</td>\n",
       "    </tr>\n",
       "    <tr>\n",
       "      <th>4</th>\n",
       "      <td>4</td>\n",
       "      <td>1</td>\n",
       "      <td>159.25</td>\n",
       "      <td>34</td>\n",
       "      <td>Jamaican Coffee River Sm</td>\n",
       "      <td>Coffee</td>\n",
       "      <td>3</td>\n",
       "      <td>Санкт-Петербург</td>\n",
       "      <td>99</td>\n",
       "      <td>1967-01-29</td>\n",
       "      <td>мужской</td>\n",
       "    </tr>\n",
       "  </tbody>\n",
       "</table>\n",
       "</div>"
      ],
      "text/plain": [
       "   transaction_id  quantity  unit_price  product_id  \\\n",
       "0               0         1      162.50          52   \n",
       "1               1         2      227.50          27   \n",
       "2               2         2      162.50          46   \n",
       "3               3         2      162.50          23   \n",
       "4               4         1      159.25          34   \n",
       "\n",
       "                  product_name product_category  sales_outlet_id  \\\n",
       "0    Traditional Blend Chai Rg              Tea                3   \n",
       "1                 Brazilian Lg           Coffee                3   \n",
       "2        Serenity Green Tea Rg              Tea                3   \n",
       "3  Our Old Time Diner Blend Rg           Coffee                3   \n",
       "4     Jamaican Coffee River Sm           Coffee                3   \n",
       "\n",
       "        store_city  customer_id   birthdate     gender  \n",
       "0  Санкт-Петербург          558  1983-02-25    женский  \n",
       "1  Санкт-Петербург          781  1991-07-29  не указан  \n",
       "2  Санкт-Петербург          788  1995-02-23  не указан  \n",
       "3  Санкт-Петербург          683  1999-02-06    женский  \n",
       "4  Санкт-Петербург           99  1967-01-29    мужской  "
      ]
     },
     "execution_count": 29,
     "metadata": {},
     "output_type": "execute_result"
    }
   ],
   "source": [
    "df_copy.head() # визуальный контроль результата"
   ]
  },
  {
   "cell_type": "markdown",
   "id": "09f55d32",
   "metadata": {},
   "source": [
    "## 3.4. Преобразование данных в необходимый формат"
   ]
  },
  {
   "cell_type": "markdown",
   "id": "8b00b690",
   "metadata": {},
   "source": [
    "**Необходимо преобразовать** следующие признаки:\n",
    "1. 'birthdate' - в формат даты и времени datetime\n",
    "2. Остальные признаки в необходимом нам формате"
   ]
  },
  {
   "cell_type": "code",
   "execution_count": 30,
   "id": "c84c15a1",
   "metadata": {},
   "outputs": [
    {
     "data": {
      "text/plain": [
       "0       1983-02-25\n",
       "1       1991-07-29\n",
       "2       1995-02-23\n",
       "3       1999-02-06\n",
       "4       1967-01-29\n",
       "           ...    \n",
       "24847   1962-10-25\n",
       "24848   1954-11-05\n",
       "24849   1953-09-16\n",
       "24850   1994-01-10\n",
       "24851   1994-01-10\n",
       "Name: birthdate, Length: 24852, dtype: datetime64[ns]"
      ]
     },
     "execution_count": 30,
     "metadata": {},
     "output_type": "execute_result"
    }
   ],
   "source": [
    "# установим нужный формат данных с помощью метода to_datetime()\n",
    "# для корректного перевода значений укажем формат в параметре format,\n",
    "# где на первом месте стоит год, а далее месяц и день (как в исходном датасете)\n",
    "df_copy.birthdate = pd.to_datetime(df_copy.birthdate, format=\"%Y-%m-%d\")\n",
    "df_copy.birthdate "
   ]
  },
  {
   "cell_type": "markdown",
   "id": "97cf5694",
   "metadata": {},
   "source": [
    "## 3.5. Форматирование текстовых данных"
   ]
  },
  {
   "cell_type": "markdown",
   "id": "bd0c6361",
   "metadata": {},
   "source": [
    "**Необходимо проверить и отформатировать** следующие признаки:\n",
    "1. 'product_name'\n",
    "2. 'product_category'\n",
    "3. 'store_city'\n",
    "4. 'gender'"
   ]
  },
  {
   "cell_type": "markdown",
   "id": "a3628634",
   "metadata": {},
   "source": [
    "### 'product_name'"
   ]
  },
  {
   "cell_type": "code",
   "execution_count": 31,
   "id": "958d0d47",
   "metadata": {
    "scrolled": true
   },
   "outputs": [
    {
     "name": "stdout",
     "output_type": "stream",
     "text": [
      "80\n"
     ]
    },
    {
     "data": {
      "text/plain": [
       "['Almond Croissant',\n",
       " 'Brazilian - Organic',\n",
       " 'Brazilian Lg',\n",
       " 'Brazilian Rg',\n",
       " 'Brazilian Sm',\n",
       " 'Cappuccino',\n",
       " 'Cappuccino Lg',\n",
       " 'Carmel syrup',\n",
       " 'Chili Mayan',\n",
       " 'Chocolate Chip Biscotti',\n",
       " 'Chocolate Croissant',\n",
       " 'Chocolate syrup',\n",
       " 'Civet Cat',\n",
       " 'Columbian Medium Roast',\n",
       " 'Columbian Medium Roast Lg',\n",
       " 'Columbian Medium Roast Rg',\n",
       " 'Columbian Medium Roast Sm',\n",
       " 'Cranberry Scone',\n",
       " 'Croissant',\n",
       " 'Dark chocolate',\n",
       " 'Dark chocolate Lg',\n",
       " 'Dark chocolate Rg',\n",
       " 'Earl Grey',\n",
       " 'Earl Grey Lg',\n",
       " 'Earl Grey Rg',\n",
       " 'English Breakfast',\n",
       " 'English Breakfast Lg',\n",
       " 'English Breakfast Rg',\n",
       " 'Espresso Roast',\n",
       " 'Espresso shot',\n",
       " 'Ethiopia',\n",
       " 'Ethiopia Lg',\n",
       " 'Ethiopia Rg',\n",
       " 'Ethiopia Sm',\n",
       " 'Ginger Biscotti',\n",
       " 'Ginger Scone',\n",
       " 'Guatemalan Sustainably Grown',\n",
       " 'Hazelnut Biscotti',\n",
       " 'Hazelnut syrup',\n",
       " 'I Need My Bean! Diner mug',\n",
       " 'I Need My Bean! Latte cup',\n",
       " 'I Need My Bean! T-shirt',\n",
       " 'Jamacian Coffee River',\n",
       " 'Jamaican Coffee River Lg',\n",
       " 'Jamaican Coffee River Rg',\n",
       " 'Jamaican Coffee River Sm',\n",
       " 'Jumbo Savory Scone',\n",
       " 'Latte',\n",
       " 'Latte Rg',\n",
       " 'Lemon Grass',\n",
       " 'Lemon Grass Lg',\n",
       " 'Lemon Grass Rg',\n",
       " 'Morning Sunrise Chai',\n",
       " 'Morning Sunrise Chai Lg',\n",
       " 'Morning Sunrise Chai Rg',\n",
       " 'Oatmeal Scone',\n",
       " 'Organic Decaf Blend',\n",
       " 'Our Old Time Diner Blend',\n",
       " 'Our Old Time Diner Blend Lg',\n",
       " 'Our Old Time Diner Blend Rg',\n",
       " 'Our Old Time Diner Blend Sm',\n",
       " 'Ouro Brasileiro shot',\n",
       " 'Peppermint',\n",
       " 'Peppermint Lg',\n",
       " 'Peppermint Rg',\n",
       " 'Primo Espresso Roast',\n",
       " 'Scottish Cream Scone ',\n",
       " 'Serenity Green Tea',\n",
       " 'Serenity Green Tea Lg',\n",
       " 'Serenity Green Tea Rg',\n",
       " 'Spicy Eye Opener Chai',\n",
       " 'Spicy Eye Opener Chai Lg',\n",
       " 'Spicy Eye Opener Chai Rg',\n",
       " 'Sugar Free Vanilla syrup',\n",
       " 'Sustainably Grown Organic',\n",
       " 'Sustainably Grown Organic Lg',\n",
       " 'Sustainably Grown Organic Rg',\n",
       " 'Traditional Blend Chai',\n",
       " 'Traditional Blend Chai Lg',\n",
       " 'Traditional Blend Chai Rg']"
      ]
     },
     "execution_count": 31,
     "metadata": {},
     "output_type": "execute_result"
    }
   ],
   "source": [
    "# проверим список уникальных значений с помощью метода unique()\n",
    "# при этом сначала выведем количество уникальных значений, используя функцию len(),\n",
    "# а сам список отсортируем по алфавиту с помощью функции sorted() для удобства проверки\n",
    "print(len(df_copy.product_name.unique()))\n",
    "sorted(df_copy.product_name.unique())"
   ]
  },
  {
   "cell_type": "markdown",
   "id": "a507a8f5",
   "metadata": {},
   "source": [
    "В датасете 80 уникальных значений по признаку product_name.\n",
    "Изучив значения, можно выделить **следующие проблемы**:\n",
    "1. слово \"Jamacian\" (написано с орфографической ошибкой) приведем в правильный вид \"Jamaican\" \n",
    "2. целесообразно привести все слова к единому регистру для удобства работы и исключения возможных незамеченных ошибок."
   ]
  },
  {
   "cell_type": "code",
   "execution_count": 32,
   "id": "d6ee3d6b",
   "metadata": {},
   "outputs": [],
   "source": [
    "# с помощью лямбда-функции и регулярного выражения заменим слово во всем столбце\n",
    "df_copy.product_name = df_copy.product_name.apply(lambda x: re.sub('Jamacian', 'Jamaican', x))\n",
    "\n",
    "# приведем значения к единому регистру (строчным буквам) с помощью метода str.lower()\n",
    "df_copy.product_name = df_copy.product_name.str.lower()"
   ]
  },
  {
   "cell_type": "code",
   "execution_count": 33,
   "id": "a9aab9f4",
   "metadata": {
    "scrolled": true
   },
   "outputs": [
    {
     "name": "stdout",
     "output_type": "stream",
     "text": [
      "кол-во уникальных значений в product_name - 80\n",
      "кол-во уникальных значений в product_id - 80\n"
     ]
    },
    {
     "data": {
      "text/plain": [
       "['almond croissant',\n",
       " 'brazilian - organic',\n",
       " 'brazilian lg',\n",
       " 'brazilian rg',\n",
       " 'brazilian sm',\n",
       " 'cappuccino',\n",
       " 'cappuccino lg',\n",
       " 'carmel syrup',\n",
       " 'chili mayan',\n",
       " 'chocolate chip biscotti',\n",
       " 'chocolate croissant',\n",
       " 'chocolate syrup',\n",
       " 'civet cat',\n",
       " 'columbian medium roast',\n",
       " 'columbian medium roast lg',\n",
       " 'columbian medium roast rg',\n",
       " 'columbian medium roast sm',\n",
       " 'cranberry scone',\n",
       " 'croissant',\n",
       " 'dark chocolate',\n",
       " 'dark chocolate lg',\n",
       " 'dark chocolate rg',\n",
       " 'earl grey',\n",
       " 'earl grey lg',\n",
       " 'earl grey rg',\n",
       " 'english breakfast',\n",
       " 'english breakfast lg',\n",
       " 'english breakfast rg',\n",
       " 'espresso roast',\n",
       " 'espresso shot',\n",
       " 'ethiopia',\n",
       " 'ethiopia lg',\n",
       " 'ethiopia rg',\n",
       " 'ethiopia sm',\n",
       " 'ginger biscotti',\n",
       " 'ginger scone',\n",
       " 'guatemalan sustainably grown',\n",
       " 'hazelnut biscotti',\n",
       " 'hazelnut syrup',\n",
       " 'i need my bean! diner mug',\n",
       " 'i need my bean! latte cup',\n",
       " 'i need my bean! t-shirt',\n",
       " 'jamaican coffee river',\n",
       " 'jamaican coffee river lg',\n",
       " 'jamaican coffee river rg',\n",
       " 'jamaican coffee river sm',\n",
       " 'jumbo savory scone',\n",
       " 'latte',\n",
       " 'latte rg',\n",
       " 'lemon grass',\n",
       " 'lemon grass lg',\n",
       " 'lemon grass rg',\n",
       " 'morning sunrise chai',\n",
       " 'morning sunrise chai lg',\n",
       " 'morning sunrise chai rg',\n",
       " 'oatmeal scone',\n",
       " 'organic decaf blend',\n",
       " 'our old time diner blend',\n",
       " 'our old time diner blend lg',\n",
       " 'our old time diner blend rg',\n",
       " 'our old time diner blend sm',\n",
       " 'ouro brasileiro shot',\n",
       " 'peppermint',\n",
       " 'peppermint lg',\n",
       " 'peppermint rg',\n",
       " 'primo espresso roast',\n",
       " 'scottish cream scone ',\n",
       " 'serenity green tea',\n",
       " 'serenity green tea lg',\n",
       " 'serenity green tea rg',\n",
       " 'spicy eye opener chai',\n",
       " 'spicy eye opener chai lg',\n",
       " 'spicy eye opener chai rg',\n",
       " 'sugar free vanilla syrup',\n",
       " 'sustainably grown organic',\n",
       " 'sustainably grown organic lg',\n",
       " 'sustainably grown organic rg',\n",
       " 'traditional blend chai',\n",
       " 'traditional blend chai lg',\n",
       " 'traditional blend chai rg']"
      ]
     },
     "execution_count": 33,
     "metadata": {},
     "output_type": "execute_result"
    }
   ],
   "source": [
    "# контроль результата\n",
    "print(f'кол-во уникальных значений в product_name - {df_copy.product_name.nunique()}')\n",
    "print(f'кол-во уникальных значений в product_id - {df_copy.product_id.nunique()}')\n",
    "# кол-во уникальных элементов совпадает в двух столбцах (так и должно быть, ошибок нет)\n",
    "sorted(df_copy.product_name.unique())"
   ]
  },
  {
   "cell_type": "markdown",
   "id": "670375af",
   "metadata": {},
   "source": [
    "### 'product_category'"
   ]
  },
  {
   "cell_type": "code",
   "execution_count": 34,
   "id": "53fad7ae",
   "metadata": {},
   "outputs": [
    {
     "name": "stdout",
     "output_type": "stream",
     "text": [
      "9\n"
     ]
    },
    {
     "data": {
      "text/plain": [
       "['Bakery',\n",
       " 'Branded',\n",
       " 'Coffee',\n",
       " 'Coffee beans',\n",
       " 'Drinking Chocolate',\n",
       " 'Flavours',\n",
       " 'Loose Tea',\n",
       " 'Packaged Chocolate',\n",
       " 'Tea']"
      ]
     },
     "execution_count": 34,
     "metadata": {},
     "output_type": "execute_result"
    }
   ],
   "source": [
    "# выведем количество уникальных значений, используя функцию nunique(),\n",
    "# выведем отсортированный список уникальных значений с помощью метода unique()\n",
    "print(df_copy.product_category.nunique())\n",
    "sorted(df_copy.product_category.unique())"
   ]
  },
  {
   "cell_type": "markdown",
   "id": "80018a23",
   "metadata": {},
   "source": [
    "В датасете 9 уникальных значений по признаку product_category.\n",
    "Изучив значения, можно выделить **следующие проблемы**:\n",
    "1. целесообразно привести все слова к единому регистру для удобства работы."
   ]
  },
  {
   "cell_type": "code",
   "execution_count": 35,
   "id": "956276f1",
   "metadata": {},
   "outputs": [],
   "source": [
    "# приведем значения к единому регистру (строчным буквам) с помощью метода str.lower()\n",
    "df_copy.product_category = df_copy.product_category.str.lower()"
   ]
  },
  {
   "cell_type": "code",
   "execution_count": 36,
   "id": "62484d90",
   "metadata": {},
   "outputs": [
    {
     "name": "stdout",
     "output_type": "stream",
     "text": [
      "кол-во уникальных значений в product_category - 9\n"
     ]
    },
    {
     "data": {
      "text/plain": [
       "['bakery',\n",
       " 'branded',\n",
       " 'coffee',\n",
       " 'coffee beans',\n",
       " 'drinking chocolate',\n",
       " 'flavours',\n",
       " 'loose tea',\n",
       " 'packaged chocolate',\n",
       " 'tea']"
      ]
     },
     "execution_count": 36,
     "metadata": {},
     "output_type": "execute_result"
    }
   ],
   "source": [
    "# контроль результата\n",
    "print(f'кол-во уникальных значений в product_category - {df_copy.product_category.nunique()}')\n",
    "sorted(df_copy.product_category.unique())"
   ]
  },
  {
   "cell_type": "markdown",
   "id": "53174a9e",
   "metadata": {},
   "source": [
    "### 'store_city'"
   ]
  },
  {
   "cell_type": "code",
   "execution_count": 37,
   "id": "099b01ac",
   "metadata": {},
   "outputs": [
    {
     "name": "stdout",
     "output_type": "stream",
     "text": [
      "3\n"
     ]
    },
    {
     "data": {
      "text/plain": [
       "['Moscow', 'Москва', 'Санкт-Петербург']"
      ]
     },
     "execution_count": 37,
     "metadata": {},
     "output_type": "execute_result"
    }
   ],
   "source": [
    "# выведем количество уникальных значений, используя функцию nunique(),\n",
    "# выведем отсортированный список уникальных значений с помощью метода unique()\n",
    "print(df_copy.store_city.nunique())\n",
    "sorted(df_copy.store_city.unique())"
   ]
  },
  {
   "cell_type": "markdown",
   "id": "86243665",
   "metadata": {},
   "source": [
    "Изучив значения, можно выделить **следующие проблемы**:\n",
    "1. необходимо заменить 'Moscow' на 'Москва', т.к. в этом столбце по сути всего 2 уникальных значения.\n",
    "2. целесообразно привести все слова к единому регистру для удобства работы."
   ]
  },
  {
   "cell_type": "code",
   "execution_count": 38,
   "id": "2427e1bc",
   "metadata": {},
   "outputs": [],
   "source": [
    "# с помощью лямбда-функции и регулярного выражения произведем замену слова во всем столбце\n",
    "df_copy.store_city = df_copy.store_city.apply(lambda x: re.sub('Moscow', 'Москва', x))"
   ]
  },
  {
   "cell_type": "code",
   "execution_count": 39,
   "id": "afb00a8a",
   "metadata": {},
   "outputs": [],
   "source": [
    "# приведем значения к единому регистру (строчным буквам) с помощью метода str.lower()\n",
    "df_copy.store_city = df_copy.store_city.str.lower()"
   ]
  },
  {
   "cell_type": "code",
   "execution_count": 40,
   "id": "45b5691e",
   "metadata": {},
   "outputs": [
    {
     "name": "stdout",
     "output_type": "stream",
     "text": [
      "2\n"
     ]
    },
    {
     "data": {
      "text/plain": [
       "['москва', 'санкт-петербург']"
      ]
     },
     "execution_count": 40,
     "metadata": {},
     "output_type": "execute_result"
    }
   ],
   "source": [
    "# контроль результата\n",
    "print(df_copy.store_city.nunique())\n",
    "sorted(df_copy.store_city.unique())"
   ]
  },
  {
   "cell_type": "markdown",
   "id": "d9970618",
   "metadata": {},
   "source": [
    "### 'gender'"
   ]
  },
  {
   "cell_type": "code",
   "execution_count": 41,
   "id": "50920ee5",
   "metadata": {},
   "outputs": [
    {
     "name": "stdout",
     "output_type": "stream",
     "text": [
      "3\n"
     ]
    },
    {
     "data": {
      "text/plain": [
       "['женский', 'мужской', 'не указан']"
      ]
     },
     "execution_count": 41,
     "metadata": {},
     "output_type": "execute_result"
    }
   ],
   "source": [
    "# выведем количество уникальных значений, используя функцию nunique(),\n",
    "# выведем отсортированный список уникальных значений с помощью метода unique()\n",
    "print(df_copy.gender.nunique())\n",
    "sorted(df_copy.gender.unique())"
   ]
  },
  {
   "cell_type": "code",
   "execution_count": 42,
   "id": "871801e8",
   "metadata": {},
   "outputs": [
    {
     "data": {
      "text/html": [
       "<div>\n",
       "<style scoped>\n",
       "    .dataframe tbody tr th:only-of-type {\n",
       "        vertical-align: middle;\n",
       "    }\n",
       "\n",
       "    .dataframe tbody tr th {\n",
       "        vertical-align: top;\n",
       "    }\n",
       "\n",
       "    .dataframe thead th {\n",
       "        text-align: right;\n",
       "    }\n",
       "</style>\n",
       "<table border=\"1\" class=\"dataframe\">\n",
       "  <thead>\n",
       "    <tr style=\"text-align: right;\">\n",
       "      <th></th>\n",
       "      <th>transaction_id</th>\n",
       "      <th>quantity</th>\n",
       "      <th>unit_price</th>\n",
       "      <th>product_id</th>\n",
       "      <th>product_name</th>\n",
       "      <th>product_category</th>\n",
       "      <th>sales_outlet_id</th>\n",
       "      <th>store_city</th>\n",
       "      <th>customer_id</th>\n",
       "      <th>birthdate</th>\n",
       "      <th>gender</th>\n",
       "    </tr>\n",
       "  </thead>\n",
       "  <tbody>\n",
       "    <tr>\n",
       "      <th>1</th>\n",
       "      <td>1</td>\n",
       "      <td>2</td>\n",
       "      <td>227.50</td>\n",
       "      <td>27</td>\n",
       "      <td>brazilian lg</td>\n",
       "      <td>coffee</td>\n",
       "      <td>3</td>\n",
       "      <td>санкт-петербург</td>\n",
       "      <td>781</td>\n",
       "      <td>1991-07-29</td>\n",
       "      <td>не указан</td>\n",
       "    </tr>\n",
       "    <tr>\n",
       "      <th>2</th>\n",
       "      <td>2</td>\n",
       "      <td>2</td>\n",
       "      <td>162.50</td>\n",
       "      <td>46</td>\n",
       "      <td>serenity green tea rg</td>\n",
       "      <td>tea</td>\n",
       "      <td>3</td>\n",
       "      <td>санкт-петербург</td>\n",
       "      <td>788</td>\n",
       "      <td>1995-02-23</td>\n",
       "      <td>не указан</td>\n",
       "    </tr>\n",
       "    <tr>\n",
       "      <th>24</th>\n",
       "      <td>24</td>\n",
       "      <td>1</td>\n",
       "      <td>243.75</td>\n",
       "      <td>38</td>\n",
       "      <td>latte</td>\n",
       "      <td>coffee</td>\n",
       "      <td>3</td>\n",
       "      <td>санкт-петербург</td>\n",
       "      <td>722</td>\n",
       "      <td>1961-06-18</td>\n",
       "      <td>не указан</td>\n",
       "    </tr>\n",
       "    <tr>\n",
       "      <th>39</th>\n",
       "      <td>39</td>\n",
       "      <td>2</td>\n",
       "      <td>243.75</td>\n",
       "      <td>38</td>\n",
       "      <td>latte</td>\n",
       "      <td>coffee</td>\n",
       "      <td>3</td>\n",
       "      <td>санкт-петербург</td>\n",
       "      <td>788</td>\n",
       "      <td>1995-02-23</td>\n",
       "      <td>не указан</td>\n",
       "    </tr>\n",
       "    <tr>\n",
       "      <th>79</th>\n",
       "      <td>79</td>\n",
       "      <td>2</td>\n",
       "      <td>159.25</td>\n",
       "      <td>34</td>\n",
       "      <td>jamaican coffee river sm</td>\n",
       "      <td>coffee</td>\n",
       "      <td>3</td>\n",
       "      <td>санкт-петербург</td>\n",
       "      <td>717</td>\n",
       "      <td>1958-11-29</td>\n",
       "      <td>не указан</td>\n",
       "    </tr>\n",
       "    <tr>\n",
       "      <th>...</th>\n",
       "      <td>...</td>\n",
       "      <td>...</td>\n",
       "      <td>...</td>\n",
       "      <td>...</td>\n",
       "      <td>...</td>\n",
       "      <td>...</td>\n",
       "      <td>...</td>\n",
       "      <td>...</td>\n",
       "      <td>...</td>\n",
       "      <td>...</td>\n",
       "      <td>...</td>\n",
       "    </tr>\n",
       "    <tr>\n",
       "      <th>24825</th>\n",
       "      <td>49816</td>\n",
       "      <td>2</td>\n",
       "      <td>162.50</td>\n",
       "      <td>46</td>\n",
       "      <td>serenity green tea rg</td>\n",
       "      <td>tea</td>\n",
       "      <td>8</td>\n",
       "      <td>москва</td>\n",
       "      <td>8340</td>\n",
       "      <td>2000-04-23</td>\n",
       "      <td>не указан</td>\n",
       "    </tr>\n",
       "    <tr>\n",
       "      <th>24833</th>\n",
       "      <td>49844</td>\n",
       "      <td>2</td>\n",
       "      <td>195.00</td>\n",
       "      <td>47</td>\n",
       "      <td>serenity green tea lg</td>\n",
       "      <td>tea</td>\n",
       "      <td>8</td>\n",
       "      <td>москва</td>\n",
       "      <td>8486</td>\n",
       "      <td>2000-04-26</td>\n",
       "      <td>не указан</td>\n",
       "    </tr>\n",
       "    <tr>\n",
       "      <th>24837</th>\n",
       "      <td>49860</td>\n",
       "      <td>2</td>\n",
       "      <td>243.75</td>\n",
       "      <td>38</td>\n",
       "      <td>latte</td>\n",
       "      <td>coffee</td>\n",
       "      <td>8</td>\n",
       "      <td>москва</td>\n",
       "      <td>8161</td>\n",
       "      <td>1995-07-04</td>\n",
       "      <td>не указан</td>\n",
       "    </tr>\n",
       "    <tr>\n",
       "      <th>24839</th>\n",
       "      <td>49862</td>\n",
       "      <td>2</td>\n",
       "      <td>143.00</td>\n",
       "      <td>25</td>\n",
       "      <td>brazilian sm</td>\n",
       "      <td>coffee</td>\n",
       "      <td>8</td>\n",
       "      <td>москва</td>\n",
       "      <td>8185</td>\n",
       "      <td>1997-07-28</td>\n",
       "      <td>не указан</td>\n",
       "    </tr>\n",
       "    <tr>\n",
       "      <th>24845</th>\n",
       "      <td>49878</td>\n",
       "      <td>1</td>\n",
       "      <td>136.50</td>\n",
       "      <td>87</td>\n",
       "      <td>ouro brasileiro shot</td>\n",
       "      <td>coffee</td>\n",
       "      <td>8</td>\n",
       "      <td>москва</td>\n",
       "      <td>8107</td>\n",
       "      <td>1995-09-29</td>\n",
       "      <td>не указан</td>\n",
       "    </tr>\n",
       "  </tbody>\n",
       "</table>\n",
       "<p>5779 rows × 11 columns</p>\n",
       "</div>"
      ],
      "text/plain": [
       "       transaction_id  quantity  unit_price  product_id  \\\n",
       "1                   1         2      227.50          27   \n",
       "2                   2         2      162.50          46   \n",
       "24                 24         1      243.75          38   \n",
       "39                 39         2      243.75          38   \n",
       "79                 79         2      159.25          34   \n",
       "...               ...       ...         ...         ...   \n",
       "24825           49816         2      162.50          46   \n",
       "24833           49844         2      195.00          47   \n",
       "24837           49860         2      243.75          38   \n",
       "24839           49862         2      143.00          25   \n",
       "24845           49878         1      136.50          87   \n",
       "\n",
       "                   product_name product_category  sales_outlet_id  \\\n",
       "1                  brazilian lg           coffee                3   \n",
       "2         serenity green tea rg              tea                3   \n",
       "24                        latte           coffee                3   \n",
       "39                        latte           coffee                3   \n",
       "79     jamaican coffee river sm           coffee                3   \n",
       "...                         ...              ...              ...   \n",
       "24825     serenity green tea rg              tea                8   \n",
       "24833     serenity green tea lg              tea                8   \n",
       "24837                     latte           coffee                8   \n",
       "24839              brazilian sm           coffee                8   \n",
       "24845      ouro brasileiro shot           coffee                8   \n",
       "\n",
       "            store_city  customer_id  birthdate     gender  \n",
       "1      санкт-петербург          781 1991-07-29  не указан  \n",
       "2      санкт-петербург          788 1995-02-23  не указан  \n",
       "24     санкт-петербург          722 1961-06-18  не указан  \n",
       "39     санкт-петербург          788 1995-02-23  не указан  \n",
       "79     санкт-петербург          717 1958-11-29  не указан  \n",
       "...                ...          ...        ...        ...  \n",
       "24825           москва         8340 2000-04-23  не указан  \n",
       "24833           москва         8486 2000-04-26  не указан  \n",
       "24837           москва         8161 1995-07-04  не указан  \n",
       "24839           москва         8185 1997-07-28  не указан  \n",
       "24845           москва         8107 1995-09-29  не указан  \n",
       "\n",
       "[5779 rows x 11 columns]"
      ]
     },
     "execution_count": 42,
     "metadata": {},
     "output_type": "execute_result"
    }
   ],
   "source": [
    "df_copy[df_copy['gender'] == 'не указан']"
   ]
  },
  {
   "cell_type": "markdown",
   "id": "15e778c6",
   "metadata": {},
   "source": [
    "В датасете 3 уникальных значения по признаку gender. Изучив значения, можно сделать **следующие выводы**:\n",
    "1. все значения приведены к единому регистру.\n",
    "2. в датасете 5779 наблюдений, в которых не указан пол. Удалить их мы не можем, т.к. это больше 20% всех наблюдений."
   ]
  },
  {
   "cell_type": "markdown",
   "id": "56343209",
   "metadata": {},
   "source": [
    "## 3.6. Расчет дополнительных признаков"
   ]
  },
  {
   "cell_type": "markdown",
   "id": "327b0bb6",
   "metadata": {},
   "source": [
    "### 'age'"
   ]
  },
  {
   "cell_type": "code",
   "execution_count": 43,
   "id": "b7ddd326",
   "metadata": {},
   "outputs": [
    {
     "data": {
      "text/plain": [
       "Timestamp('2024-07-26 13:20:13.279619')"
      ]
     },
     "execution_count": 43,
     "metadata": {},
     "output_type": "execute_result"
    }
   ],
   "source": [
    "# для расчета возраста необходимо из текущей даты вычесть дату рождения (признак \"birthdate\")\n",
    "# получаем текущую дату с помощью метода Timestamp.today()\n",
    "current_day = pd.Timestamp.today()\n",
    "current_day"
   ]
  },
  {
   "cell_type": "code",
   "execution_count": 44,
   "id": "15a760db",
   "metadata": {},
   "outputs": [
    {
     "data": {
      "text/plain": [
       "2024"
      ]
     },
     "execution_count": 44,
     "metadata": {},
     "output_type": "execute_result"
    }
   ],
   "source": [
    "# извлечем значение года из даты с помощью атрибута year\n",
    "current_year = current_day.year\n",
    "current_year"
   ]
  },
  {
   "cell_type": "code",
   "execution_count": 45,
   "id": "29747501",
   "metadata": {},
   "outputs": [],
   "source": [
    "# рассчитаем значения возраста и сохраним полученные значения в признак age\n",
    "# при этом необходимо каждую дату рождения перевести в значение года аналогично через атрибут year\n",
    "df_copy['age'] = current_year - df_copy.birthdate.apply(lambda x: x.year)"
   ]
  },
  {
   "cell_type": "code",
   "execution_count": 46,
   "id": "a87b58f3",
   "metadata": {},
   "outputs": [],
   "source": [
    "# исключим исходный столбец birthdate, т.к. он больше не участвует в расчетах\n",
    "df_copy.drop(columns='birthdate', inplace=True)"
   ]
  },
  {
   "cell_type": "code",
   "execution_count": 47,
   "id": "d1936129",
   "metadata": {},
   "outputs": [
    {
     "data": {
      "text/html": [
       "<div>\n",
       "<style scoped>\n",
       "    .dataframe tbody tr th:only-of-type {\n",
       "        vertical-align: middle;\n",
       "    }\n",
       "\n",
       "    .dataframe tbody tr th {\n",
       "        vertical-align: top;\n",
       "    }\n",
       "\n",
       "    .dataframe thead th {\n",
       "        text-align: right;\n",
       "    }\n",
       "</style>\n",
       "<table border=\"1\" class=\"dataframe\">\n",
       "  <thead>\n",
       "    <tr style=\"text-align: right;\">\n",
       "      <th></th>\n",
       "      <th>transaction_id</th>\n",
       "      <th>quantity</th>\n",
       "      <th>unit_price</th>\n",
       "      <th>product_id</th>\n",
       "      <th>product_name</th>\n",
       "      <th>product_category</th>\n",
       "      <th>sales_outlet_id</th>\n",
       "      <th>store_city</th>\n",
       "      <th>customer_id</th>\n",
       "      <th>gender</th>\n",
       "      <th>age</th>\n",
       "    </tr>\n",
       "  </thead>\n",
       "  <tbody>\n",
       "    <tr>\n",
       "      <th>0</th>\n",
       "      <td>0</td>\n",
       "      <td>1</td>\n",
       "      <td>162.50</td>\n",
       "      <td>52</td>\n",
       "      <td>traditional blend chai rg</td>\n",
       "      <td>tea</td>\n",
       "      <td>3</td>\n",
       "      <td>санкт-петербург</td>\n",
       "      <td>558</td>\n",
       "      <td>женский</td>\n",
       "      <td>41</td>\n",
       "    </tr>\n",
       "    <tr>\n",
       "      <th>1</th>\n",
       "      <td>1</td>\n",
       "      <td>2</td>\n",
       "      <td>227.50</td>\n",
       "      <td>27</td>\n",
       "      <td>brazilian lg</td>\n",
       "      <td>coffee</td>\n",
       "      <td>3</td>\n",
       "      <td>санкт-петербург</td>\n",
       "      <td>781</td>\n",
       "      <td>не указан</td>\n",
       "      <td>33</td>\n",
       "    </tr>\n",
       "    <tr>\n",
       "      <th>2</th>\n",
       "      <td>2</td>\n",
       "      <td>2</td>\n",
       "      <td>162.50</td>\n",
       "      <td>46</td>\n",
       "      <td>serenity green tea rg</td>\n",
       "      <td>tea</td>\n",
       "      <td>3</td>\n",
       "      <td>санкт-петербург</td>\n",
       "      <td>788</td>\n",
       "      <td>не указан</td>\n",
       "      <td>29</td>\n",
       "    </tr>\n",
       "    <tr>\n",
       "      <th>3</th>\n",
       "      <td>3</td>\n",
       "      <td>2</td>\n",
       "      <td>162.50</td>\n",
       "      <td>23</td>\n",
       "      <td>our old time diner blend rg</td>\n",
       "      <td>coffee</td>\n",
       "      <td>3</td>\n",
       "      <td>санкт-петербург</td>\n",
       "      <td>683</td>\n",
       "      <td>женский</td>\n",
       "      <td>25</td>\n",
       "    </tr>\n",
       "    <tr>\n",
       "      <th>4</th>\n",
       "      <td>4</td>\n",
       "      <td>1</td>\n",
       "      <td>159.25</td>\n",
       "      <td>34</td>\n",
       "      <td>jamaican coffee river sm</td>\n",
       "      <td>coffee</td>\n",
       "      <td>3</td>\n",
       "      <td>санкт-петербург</td>\n",
       "      <td>99</td>\n",
       "      <td>мужской</td>\n",
       "      <td>57</td>\n",
       "    </tr>\n",
       "  </tbody>\n",
       "</table>\n",
       "</div>"
      ],
      "text/plain": [
       "   transaction_id  quantity  unit_price  product_id  \\\n",
       "0               0         1      162.50          52   \n",
       "1               1         2      227.50          27   \n",
       "2               2         2      162.50          46   \n",
       "3               3         2      162.50          23   \n",
       "4               4         1      159.25          34   \n",
       "\n",
       "                  product_name product_category  sales_outlet_id  \\\n",
       "0    traditional blend chai rg              tea                3   \n",
       "1                 brazilian lg           coffee                3   \n",
       "2        serenity green tea rg              tea                3   \n",
       "3  our old time diner blend rg           coffee                3   \n",
       "4     jamaican coffee river sm           coffee                3   \n",
       "\n",
       "        store_city  customer_id     gender  age  \n",
       "0  санкт-петербург          558    женский   41  \n",
       "1  санкт-петербург          781  не указан   33  \n",
       "2  санкт-петербург          788  не указан   29  \n",
       "3  санкт-петербург          683    женский   25  \n",
       "4  санкт-петербург           99    мужской   57  "
      ]
     },
     "execution_count": 47,
     "metadata": {},
     "output_type": "execute_result"
    }
   ],
   "source": [
    "# визуальный контроль результата\n",
    "df_copy.head()"
   ]
  },
  {
   "cell_type": "markdown",
   "id": "62c156a8",
   "metadata": {},
   "source": [
    "### 'total'"
   ]
  },
  {
   "cell_type": "code",
   "execution_count": 48,
   "id": "6f10941b",
   "metadata": {},
   "outputs": [],
   "source": [
    "# рассчитаем дополнительный признак total (общая сумма по каждой транзакции) \n",
    "# по формуле (quantity * unit_price)\n",
    "df_copy['total'] = df_copy['quantity'] * df_copy['unit_price']"
   ]
  },
  {
   "cell_type": "markdown",
   "id": "56ce4e25",
   "metadata": {},
   "source": [
    "## 3.7. Проверка и сохранение датасета"
   ]
  },
  {
   "cell_type": "markdown",
   "id": "b7d47922",
   "metadata": {},
   "source": [
    "### Общий датасет"
   ]
  },
  {
   "cell_type": "code",
   "execution_count": 49,
   "id": "8c183bc1",
   "metadata": {},
   "outputs": [],
   "source": [
    "# немного преобразуем наш датафрейм\n",
    "# расположим столбцы в порядке, удобном для просмотра\n",
    "columns = ['transaction_id', 'quantity', 'unit_price', 'total', 'product_id', 'product_name', 'product_category', 'sales_outlet_id', 'store_city', 'customer_id', 'gender', 'age']\n",
    "df_copy = df_copy[columns]\n",
    "# немного сократим названия некоторых колонок\n",
    "df_copy = df_copy.rename(columns = {'sales_outlet_id':'outlet_id', 'store_city':'city' })"
   ]
  },
  {
   "cell_type": "code",
   "execution_count": 50,
   "id": "f7ad9186",
   "metadata": {},
   "outputs": [
    {
     "data": {
      "text/plain": [
       "(24852, 12)"
      ]
     },
     "execution_count": 50,
     "metadata": {},
     "output_type": "execute_result"
    }
   ],
   "source": [
    "# обзор размеров датафрейма\n",
    "df_copy.shape"
   ]
  },
  {
   "cell_type": "code",
   "execution_count": 51,
   "id": "215b31ca",
   "metadata": {},
   "outputs": [
    {
     "name": "stdout",
     "output_type": "stream",
     "text": [
      "<class 'pandas.core.frame.DataFrame'>\n",
      "RangeIndex: 24852 entries, 0 to 24851\n",
      "Data columns (total 12 columns):\n",
      " #   Column            Non-Null Count  Dtype  \n",
      "---  ------            --------------  -----  \n",
      " 0   transaction_id    24852 non-null  int64  \n",
      " 1   quantity          24852 non-null  int64  \n",
      " 2   unit_price        24852 non-null  float64\n",
      " 3   total             24852 non-null  float64\n",
      " 4   product_id        24852 non-null  int64  \n",
      " 5   product_name      24852 non-null  object \n",
      " 6   product_category  24852 non-null  object \n",
      " 7   outlet_id         24852 non-null  int64  \n",
      " 8   city              24852 non-null  object \n",
      " 9   customer_id       24852 non-null  int64  \n",
      " 10  gender            24852 non-null  object \n",
      " 11  age               24852 non-null  int64  \n",
      "dtypes: float64(2), int64(6), object(4)\n",
      "memory usage: 2.3+ MB\n"
     ]
    }
   ],
   "source": [
    "# обзор типов данных, пропущенных значений, диапазона индексов\n",
    "df_copy.info()"
   ]
  },
  {
   "cell_type": "code",
   "execution_count": 52,
   "id": "27156b63",
   "metadata": {},
   "outputs": [
    {
     "data": {
      "text/html": [
       "<div>\n",
       "<style scoped>\n",
       "    .dataframe tbody tr th:only-of-type {\n",
       "        vertical-align: middle;\n",
       "    }\n",
       "\n",
       "    .dataframe tbody tr th {\n",
       "        vertical-align: top;\n",
       "    }\n",
       "\n",
       "    .dataframe thead th {\n",
       "        text-align: right;\n",
       "    }\n",
       "</style>\n",
       "<table border=\"1\" class=\"dataframe\">\n",
       "  <thead>\n",
       "    <tr style=\"text-align: right;\">\n",
       "      <th></th>\n",
       "      <th>transaction_id</th>\n",
       "      <th>quantity</th>\n",
       "      <th>unit_price</th>\n",
       "      <th>total</th>\n",
       "      <th>product_id</th>\n",
       "      <th>product_name</th>\n",
       "      <th>product_category</th>\n",
       "      <th>outlet_id</th>\n",
       "      <th>city</th>\n",
       "      <th>customer_id</th>\n",
       "      <th>gender</th>\n",
       "      <th>age</th>\n",
       "    </tr>\n",
       "  </thead>\n",
       "  <tbody>\n",
       "    <tr>\n",
       "      <th>0</th>\n",
       "      <td>0</td>\n",
       "      <td>1</td>\n",
       "      <td>162.50</td>\n",
       "      <td>162.50</td>\n",
       "      <td>52</td>\n",
       "      <td>traditional blend chai rg</td>\n",
       "      <td>tea</td>\n",
       "      <td>3</td>\n",
       "      <td>санкт-петербург</td>\n",
       "      <td>558</td>\n",
       "      <td>женский</td>\n",
       "      <td>41</td>\n",
       "    </tr>\n",
       "    <tr>\n",
       "      <th>1</th>\n",
       "      <td>1</td>\n",
       "      <td>2</td>\n",
       "      <td>227.50</td>\n",
       "      <td>455.00</td>\n",
       "      <td>27</td>\n",
       "      <td>brazilian lg</td>\n",
       "      <td>coffee</td>\n",
       "      <td>3</td>\n",
       "      <td>санкт-петербург</td>\n",
       "      <td>781</td>\n",
       "      <td>не указан</td>\n",
       "      <td>33</td>\n",
       "    </tr>\n",
       "    <tr>\n",
       "      <th>2</th>\n",
       "      <td>2</td>\n",
       "      <td>2</td>\n",
       "      <td>162.50</td>\n",
       "      <td>325.00</td>\n",
       "      <td>46</td>\n",
       "      <td>serenity green tea rg</td>\n",
       "      <td>tea</td>\n",
       "      <td>3</td>\n",
       "      <td>санкт-петербург</td>\n",
       "      <td>788</td>\n",
       "      <td>не указан</td>\n",
       "      <td>29</td>\n",
       "    </tr>\n",
       "    <tr>\n",
       "      <th>3</th>\n",
       "      <td>3</td>\n",
       "      <td>2</td>\n",
       "      <td>162.50</td>\n",
       "      <td>325.00</td>\n",
       "      <td>23</td>\n",
       "      <td>our old time diner blend rg</td>\n",
       "      <td>coffee</td>\n",
       "      <td>3</td>\n",
       "      <td>санкт-петербург</td>\n",
       "      <td>683</td>\n",
       "      <td>женский</td>\n",
       "      <td>25</td>\n",
       "    </tr>\n",
       "    <tr>\n",
       "      <th>4</th>\n",
       "      <td>4</td>\n",
       "      <td>1</td>\n",
       "      <td>159.25</td>\n",
       "      <td>159.25</td>\n",
       "      <td>34</td>\n",
       "      <td>jamaican coffee river sm</td>\n",
       "      <td>coffee</td>\n",
       "      <td>3</td>\n",
       "      <td>санкт-петербург</td>\n",
       "      <td>99</td>\n",
       "      <td>мужской</td>\n",
       "      <td>57</td>\n",
       "    </tr>\n",
       "  </tbody>\n",
       "</table>\n",
       "</div>"
      ],
      "text/plain": [
       "   transaction_id  quantity  unit_price   total  product_id  \\\n",
       "0               0         1      162.50  162.50          52   \n",
       "1               1         2      227.50  455.00          27   \n",
       "2               2         2      162.50  325.00          46   \n",
       "3               3         2      162.50  325.00          23   \n",
       "4               4         1      159.25  159.25          34   \n",
       "\n",
       "                  product_name product_category  outlet_id             city  \\\n",
       "0    traditional blend chai rg              tea          3  санкт-петербург   \n",
       "1                 brazilian lg           coffee          3  санкт-петербург   \n",
       "2        serenity green tea rg              tea          3  санкт-петербург   \n",
       "3  our old time diner blend rg           coffee          3  санкт-петербург   \n",
       "4     jamaican coffee river sm           coffee          3  санкт-петербург   \n",
       "\n",
       "   customer_id     gender  age  \n",
       "0          558    женский   41  \n",
       "1          781  не указан   33  \n",
       "2          788  не указан   29  \n",
       "3          683    женский   25  \n",
       "4           99    мужской   57  "
      ]
     },
     "execution_count": 52,
     "metadata": {},
     "output_type": "execute_result"
    }
   ],
   "source": [
    "# обзор содержания полученного датасета\n",
    "df_copy.head()"
   ]
  },
  {
   "cell_type": "code",
   "execution_count": 53,
   "id": "3f4241c1",
   "metadata": {},
   "outputs": [],
   "source": [
    "# сохраним результаты в файл в формате csv\n",
    "df_copy.to_csv('coffee_shop_prepared.csv')"
   ]
  },
  {
   "cell_type": "markdown",
   "id": "1a9248b4",
   "metadata": {},
   "source": [
    "## 3.8. Выводы по разделу:"
   ]
  },
  {
   "cell_type": "markdown",
   "id": "a94b4511",
   "metadata": {},
   "source": [
    "1. Был представлен датасет с выгрузкой о транзакциях, товарах, клиентах и торговых точках из CRM-системы Заказчика. Файл в формате csv, содержащий 24909 строк (объектов) и 6 столбцов (признаков).\n",
    "2. В ходе очистки данных были исключены:\n",
    "* признаки, не представляющие ценности в рамках указанных условий (после распаковки вложенных значений в признаках 'product_info', 'store_info', 'customer_info');\n",
    "* \"полные\" дубликаты (ошибочно задвоенные записи);\n",
    "3. Произведена проверка на наличие незаполненных значений (в исходных признаках и в полученных признаках после распаковки вложенных структур в признаках 'product_info', 'store_info', 'customer_info'). Пустых значений не обнаружено. \n",
    "4. Были распакованы полуструктурированные данные, представленные в формате json. В результате распаковки нами были получены следующие признаки: 'product_id' (id продукта), 'product_name' (наименование продукта), 'product_category' (категория продукта), 'sales_outlet_id' (id точки продаж), 'store_city' (город), 'customer_id' (id клиента), 'gender' (пол).\n",
    "5. Значения признаков были преобразованы в соответствующие форматы, необходимые для последующего анализа: признак birthdate в формат datetime.\n",
    "6. Дополнительно произведен расчет признаков 'age' (возраст) и 'total' (общая сумма по каждой транзакции).\n",
    "7. Отформатированы и унифицированы значения текстовых признаков 'product_name' (наименование продукта), 'product_category' (категория продукта) и 'store_city' (город).\n",
    "8. По итогу раздела принято решение о сохранении преобразованного датасета для последующего анализа:\n",
    "* в разрезе уникальных транзакций (24852 объектов, 12 признаков): файл в формате csv (coffee_shop_prepared.csv).\n",
    "9. В связи с обнаруженными \"полными\" дубликатами следует дополнительно оформить пояснительную записку, содержащую обратную связь по исходным данным, и направить ее Заказчику."
   ]
  },
  {
   "cell_type": "code",
   "execution_count": null,
   "id": "f6563199",
   "metadata": {},
   "outputs": [],
   "source": []
  }
 ],
 "metadata": {
  "kernelspec": {
   "display_name": "Python 3 (ipykernel)",
   "language": "python",
   "name": "python3"
  },
  "language_info": {
   "codemirror_mode": {
    "name": "ipython",
    "version": 3
   },
   "file_extension": ".py",
   "mimetype": "text/x-python",
   "name": "python",
   "nbconvert_exporter": "python",
   "pygments_lexer": "ipython3",
   "version": "3.11.5"
  }
 },
 "nbformat": 4,
 "nbformat_minor": 5
}
